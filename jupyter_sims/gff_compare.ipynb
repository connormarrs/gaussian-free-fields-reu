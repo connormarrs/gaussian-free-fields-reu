{
 "cells": [
  {
   "cell_type": "code",
   "execution_count": 20,
   "id": "7ca4f839",
   "metadata": {
    "scrolled": false
   },
   "outputs": [
    {
     "data": {
      "application/vnd.jupyter.widget-view+json": {
       "model_id": "aa45d2f8293f44cea6b999863faa43ba",
       "version_major": 2,
       "version_minor": 0
      },
      "text/plain": [
       "interactive(children=(IntSlider(value=5, description='s', max=10, min=1), Output()), _dom_classes=('widget-int…"
      ]
     },
     "metadata": {},
     "output_type": "display_data"
    }
   ],
   "source": [
    "%matplotlib inline\n",
    "import numpy as np\n",
    "import math\n",
    "import matplotlib.pyplot as plt\n",
    "from ipywidgets import interact\n",
    "\n",
    "prob = .01\n",
    "eps = .001\n",
    "# s = .5149\n",
    "\n",
    "\n",
    "# prob = (m ** (1 - (2 *s))) *(1 - (2/np.pi)) / (((2*s)-1) *(eps **2))\n",
    "# (m ** (1 - (2 *s))) = (((2*s)-1) *(eps **2) *prob) / (1 - (2/np.pi))\n",
    "\n",
    "# use interact decorator to decorate the function, so the function can receive the slide bar's value with parameter x.\n",
    "theta1 = np.arange(0,np.pi,0.01) # time grid\n",
    "\n",
    "\n",
    "theta =  np.append(theta1, -theta1)\n",
    "np.random.seed(6) # not sure that this does anything. Was an attempt to keep z vals the same between trials\n",
    "# Zs = []\n",
    "Zs = (np.random.default_rng().normal(0, 1, 290000)) # creates rrandom variables\n",
    "\n",
    "\n",
    "@interact(s=(1, 10))\n",
    "def graphAll(s):\n",
    "    def gff_partial_sum(Z,n,s,t):\n",
    "        \n",
    "        # construct a vector of the coefficients of the sum\n",
    "#         coeff = [(np.sin(m*t) + np.cos(m *t))/m**(2*s) for m in range(1,n+1)]\n",
    "        coeff = [np.sin(m*t)/m**(2*s) for m in range(1,n+1)]\n",
    "\n",
    "        i = int(t *100) # index for each random variable in the vector\n",
    "\n",
    "        return Z[:n].dot(coeff)\n",
    "\n",
    "    # construct a random vector of i.i.d standard normals of size n\n",
    "    m = int(((((4*s)-1) *(eps **2) *prob) / (1 - (2/np.pi))) **(1/(1-(4*s)))) +1\n",
    "    vals1 = np.array(\n",
    "        [gff_partial_sum(Zs,m, s,t) for t in theta1]\n",
    "    )\n",
    "    vals = np.append(vals1,-vals1)\n",
    "\n",
    "    # Plotting the GFF on two axes - both polar and normal.\n",
    "    plt.style.use('ggplot')\n",
    "\n",
    "    fig = plt.figure(figsize=(10,10))\n",
    "    ax1 = plt.subplot(211)\n",
    "    ax2 = plt.subplot(212, projection='polar')\n",
    "    \n",
    "    ax1.plot(theta1,vals1) # plots just one side of the circle\n",
    "    ax2.plot(theta1,10 +vals1) # plots top half of circle red\n",
    "    ax2.plot(-theta1,10-vals1) # plots bottom half of circle "
   ]
  },
  {
   "cell_type": "code",
   "execution_count": 23,
   "id": "203fd407",
   "metadata": {},
   "outputs": [
    {
     "data": {
      "application/vnd.jupyter.widget-view+json": {
       "model_id": "83e68b3e5fe1465b8f926c2bbd32bd53",
       "version_major": 2,
       "version_minor": 0
      },
      "text/plain": [
       "interactive(children=(IntSlider(value=5, description='s', max=10, min=1), Output()), _dom_classes=('widget-int…"
      ]
     },
     "metadata": {},
     "output_type": "display_data"
    }
   ],
   "source": [
    "@interact(s=(1, 10))\n",
    "def graphAll(s):\n",
    "    def gff_partial_sum(Z,n,s,t):\n",
    "        \n",
    "        # construct a vector of the coefficients of the sum\n",
    "#         coeff = [(np.sin(m*t) + np.cos(m *t))/m**(2*s) for m in range(1,n+1)]\n",
    "        coeff = [np.sin(m*t)/m**(2*s) for m in range(1,n+1)]\n",
    "\n",
    "        i = int(t *100) # index for each random variable in the vector\n",
    "\n",
    "        return Z[:n].dot(coeff)\n",
    "\n",
    "    # construct a random vector of i.i.d standard normals of size n\n",
    "    m = int(((((4*s)-1) *(eps **2) *prob) / (1 - (2/np.pi))) **(1/(1-(4*s)))) +1\n",
    "    vals1 = np.array(\n",
    "        [gff_partial_sum(Zs,m, s,t) for t in theta1]\n",
    "    )\n",
    "    vals = np.append(vals1,-vals1)\n",
    "\n",
    "    # Plotting the GFF on two axes - both polar and normal.\n",
    "    plt.style.use('ggplot')\n",
    "\n",
    "    fig = plt.figure(figsize = (10,10))\n",
    "    ax3 = plt.subplot(111, projection='3d')\n",
    "    \n",
    "    # Data for a three-dimensional line\n",
    "\n",
    "    ax3.plot3D(np.cos(theta1), np.sin(theta1), vals1, alpha = 0.5, c = 'maroon')\n",
    "    ax3.plot3D(np.cos(-theta1), np.sin(-theta1), -vals1, alpha = 0.5, c = 'maroon')\n",
    "    ax3.scatter3D(np.cos(theta), np.sin(theta), vals*0, cmap = 'coolwarm', c = vals, alpha = 1, s = 50)\n",
    "    # ax.scatter3D(np.cos(-theta), np.sin(-theta), -vals, cmap = 'hot', c = -vals, alpha = 1)\n",
    "    ax3.plot3D(np.cos(theta1), np.sin(theta1), 0*theta1, 'black')\n",
    "    ax3.plot3D(np.cos(-theta1), np.sin(-theta1), 0*theta1, 'black')\n",
    "    plt.show()"
   ]
  },
  {
   "cell_type": "code",
   "execution_count": 24,
   "id": "1583d288",
   "metadata": {},
   "outputs": [
    {
     "name": "stdout",
     "output_type": "stream",
     "text": [
      "s = 0.26\n",
      "m = 9.068438931428665e+223\n"
     ]
    }
   ],
   "source": [
    "# Input s val, returns m val (how far into the partial sum we need to go)\n",
    "\n",
    "def mVal(s):\n",
    "    m = (((((4*s)-1) *(eps **2) *prob) / (1 - (2/np.pi))) **(1/(1-(4*s))))\n",
    "    return m\n",
    "    \n",
    "sv = float(input(\"s = \"))\n",
    "print(\"m =\",mVal(sv))"
   ]
  }
 ],
 "metadata": {
  "kernelspec": {
   "display_name": "Python 3 (ipykernel)",
   "language": "python",
   "name": "python3"
  },
  "language_info": {
   "codemirror_mode": {
    "name": "ipython",
    "version": 3
   },
   "file_extension": ".py",
   "mimetype": "text/x-python",
   "name": "python",
   "nbconvert_exporter": "python",
   "pygments_lexer": "ipython3",
   "version": "3.9.12"
  }
 },
 "nbformat": 4,
 "nbformat_minor": 5
}

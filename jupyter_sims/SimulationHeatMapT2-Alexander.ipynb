{
 "cells": [
  {
   "cell_type": "code",
   "execution_count": 346,
   "id": "1a79191f",
   "metadata": {},
   "outputs": [],
   "source": [
    "%matplotlib inline\n",
    "import matplotlib.pyplot as plt\n",
    "import seaborn as sbn\n",
    "import numpy as np\n",
    "import json\n",
    "\n",
    "# This program is designed to create a heat map for T2 from a json file.\n",
    "    \n",
    "# Gets the t'th trial corresponding to a given number n of points:\n",
    "def get_data(n, t, file): # t = trial number\n",
    "    f = open(file)\n",
    "    data = json.load(f)\n",
    "    return data['info']['n'][str(n)]['trialData'][t]"
   ]
  },
  {
   "cell_type": "code",
   "execution_count": 366,
   "id": "b0abc3af",
   "metadata": {},
   "outputs": [],
   "source": [
    "# Creates the heat map:\n",
    "\n",
    "def create_heat_map(n, t, file):\n",
    "    # Conversts the t'th trial into an array:\n",
    "    matrix = np.array(get_data(n, t, file)) \n",
    "    # The transpose ensures that we go vertically up when we fix x.\n",
    "    ax = sbn.heatmap(np.transpose(matrix), cmap = 'coolwarm')\n",
    "    # Inverting the y-axis makes the axes typically Cartesian.\n",
    "    ax.invert_yaxis()"
   ]
  },
  {
   "cell_type": "code",
   "execution_count": 367,
   "id": "c59c2540",
   "metadata": {},
   "outputs": [
    {
     "data": {
      "image/png": "[encoded data removed]",
      "text/plain": [
       "<Figure size 432x288 with 2 Axes>"
      ]
     },
     "metadata": {
      "needs_background": "light"
     },
     "output_type": "display_data"
    }
   ],
   "source": [
    "create_heat_map(3,0,'template.json')"
   ]
  },
  {
   "cell_type": "code",
   "execution_count": null,
   "id": "d4b79b55",
   "metadata": {},
   "outputs": [],
   "source": []
  },
  {
   "cell_type": "code",
   "execution_count": null,
   "id": "fb832c95",
   "metadata": {},
   "outputs": [],
   "source": []
  },
  {
   "cell_type": "code",
   "execution_count": null,
   "id": "cea87c65",
   "metadata": {},
   "outputs": [],
   "source": []
  },
  {
   "cell_type": "code",
   "execution_count": null,
   "id": "d0d75f86",
   "metadata": {},
   "outputs": [],
   "source": []
  },
  {
   "cell_type": "code",
   "execution_count": null,
   "id": "605f7605",
   "metadata": {},
   "outputs": [],
   "source": []
  }
 ],
 "metadata": {
  "kernelspec": {
   "display_name": "Python 3 (ipykernel)",
   "language": "python",
   "name": "python3"
  },
  "language_info": {
   "codemirror_mode": {
    "name": "ipython",
    "version": 3
   },
   "file_extension": ".py",
   "mimetype": "text/x-python",
   "name": "python",
   "nbconvert_exporter": "python",
   "pygments_lexer": "ipython3",
   "version": "3.9.12"
  }
 },
 "nbformat": 4,
 "nbformat_minor": 5
}

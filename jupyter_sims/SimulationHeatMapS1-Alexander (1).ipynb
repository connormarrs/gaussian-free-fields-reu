{
 "cells": [
  {
   "cell_type": "code",
   "execution_count": 36,
   "id": "65760525",
   "metadata": {},
   "outputs": [],
   "source": [
    "%matplotlib inline\n",
    "import matplotlib.pyplot as plt\n",
    "import json\n",
    "\n",
    "# This program is designed to create a heat map from a json file.\n",
    "    \n",
    "# Gets the t'th trial corresponding to a given number n of points:\n",
    "def get_data(n, t, file):\n",
    "    f = open(file)\n",
    "    data = json.load(f)\n",
    "    return data['info']['n'][str(n)]['trialData'][t]"
   ]
  },
  {
   "cell_type": "code",
   "execution_count": 93,
   "id": "03f61f1f",
   "metadata": {},
   "outputs": [],
   "source": [
    "# Creates the heat map:\n",
    "\n",
    "def create_heat_map(n, t, file): \n",
    "    # Collects the y-values in a list:\n",
    "    vals = [get_data(n, t, file)[x] for x in range(0,n)]\n",
    "    # Creates subplots:\n",
    "    fig = plt.figure(figsize = (4,4))\n",
    "    ax = fig.add_subplot()\n",
    "    ax.set_aspect('equal', adjustable ='box')\n",
    "    # Bin count = number of rectangles is 1 less than the number of data points, n.\n",
    "    ax.hist2d(vals, [1 for i in range(0,n)], bins = n-1, cmap = 'coolwarm')\n",
    "    # Limiting the y-axis to the height of the rectangles allows only the data to influence colors.\n",
    "    ax.set_ylim(1, 1.25)"
   ]
  },
  {
   "cell_type": "code",
   "execution_count": 94,
   "id": "e7bad57b",
   "metadata": {},
   "outputs": [
    {
     "data": {
      "image/png": "[encoded data removed]",
      "text/plain": [
       "<Figure size 288x288 with 1 Axes>"
      ]
     },
     "metadata": {
      "needs_background": "light"
     },
     "output_type": "display_data"
    }
   ],
   "source": [
    "create_heat_map(5, 3, 'template.json')"
   ]
  },
  {
   "cell_type": "code",
   "execution_count": null,
   "id": "9753a4db",
   "metadata": {},
   "outputs": [],
   "source": []
  }
 ],
 "metadata": {
  "kernelspec": {
   "display_name": "Python 3 (ipykernel)",
   "language": "python",
   "name": "python3"
  },
  "language_info": {
   "codemirror_mode": {
    "name": "ipython",
    "version": 3
   },
   "file_extension": ".py",
   "mimetype": "text/x-python",
   "name": "python",
   "nbconvert_exporter": "python",
   "pygments_lexer": "ipython3",
   "version": "3.9.12"
  }
 },
 "nbformat": 4,
 "nbformat_minor": 5
}

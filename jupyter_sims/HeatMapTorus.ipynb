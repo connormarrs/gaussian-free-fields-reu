{
 "cells": [
  {
   "cell_type": "code",
   "execution_count": 10,
   "id": "6ea5f93a",
   "metadata": {},
   "outputs": [],
   "source": [
    "#Used for math opperations\n",
    "import numpy as np\n",
    "\n",
    "#Used for plotting data\n",
    "import matplotlib.pyplot as plt\n",
    "%matplotlib inline\n",
    "\n",
    "#Used to read outside files\n",
    "import pandas as pd"
   ]
  },
  {
   "cell_type": "markdown",
   "id": "6ebd28cf",
   "metadata": {},
   "source": [
    "### Get the Names of CSV files"
   ]
  },
  {
   "cell_type": "code",
   "execution_count": 11,
   "id": "99374be6",
   "metadata": {
    "scrolled": true
   },
   "outputs": [
    {
     "name": "stdout",
     "output_type": "stream",
     "text": [
      "Input shape; S for Sphere, T for torus: s\n",
      "Input Operating System; W for Windows, M for Mac or Linux: w\n"
     ]
    }
   ],
   "source": [
    "System = input(\"Input Operating System; W for Windows, M for Mac or Linux: \")"
   ]
  },
  {
   "cell_type": "markdown",
   "id": "1a8eaa84",
   "metadata": {},
   "source": [
    "  "
   ]
  },
  {
   "cell_type": "markdown",
   "id": "a93cdc0a",
   "metadata": {},
   "source": [
    "The discrete Torus is defined by an n by n grid. Be sure your input n value is a perfect square"
   ]
  },
  {
   "cell_type": "code",
   "execution_count": 12,
   "id": "7fae3f8f",
   "metadata": {},
   "outputs": [],
   "source": [
    "# A list of both n and s values\n",
    "# Must be input as strings and include all sig-figs\n",
    "# Maximum of nine s values\n",
    "\n",
    "N = ['10','50','100', '500','1000','10000','20000','30000']\n",
    "S = ['0.000000','0.225000','0.250000','0.275000','0.500000']"
   ]
  },
  {
   "cell_type": "code",
   "execution_count": 13,
   "id": "dd8334dd",
   "metadata": {},
   "outputs": [],
   "source": [
    "if System == 'W' or 'w':\n",
    "    Address = r'..\\\\..\\\\Data\\\\Heat Map\\\\Torus\\\\'\n",
    "if System == 'M' or 'm':\n",
    "    Address = r'..//..//Data//Heat Map//Torus//'"
   ]
  },
  {
   "cell_type": "code",
   "execution_count": 14,
   "id": "be1f02c1",
   "metadata": {},
   "outputs": [],
   "source": [
    "# These Functions construct the addresses of all the files in the folder\n",
    "\n",
    "def filenumber(n):\n",
    "    if System == 'W' or 'w':\n",
    "        number = Address + '\\\\' + n\n",
    "    if System == 'M' or 'm':\n",
    "        number = Address + '//' + n\n",
    "    return number\n",
    "\n",
    "def filename(n ,s):\n",
    "    name = filenumber(n) + '_' + s + '.csv'\n",
    "    return name"
   ]
  },
  {
   "cell_type": "code",
   "execution_count": 15,
   "id": "1b716513",
   "metadata": {},
   "outputs": [],
   "source": [
    "# This creates a list of all data addresses the user specified\n",
    "Files = []\n",
    "\n",
    "for n in range(len(N)):\n",
    "    for s in range(len(S)):\n",
    "        Files.append(filename((N[n]),S[s]))"
   ]
  },
  {
   "cell_type": "markdown",
   "id": "0e52e1d8",
   "metadata": {},
   "source": [
    "### Get CSV Data"
   ]
  },
  {
   "cell_type": "code",
   "execution_count": 1,
   "id": "eb61d66e",
   "metadata": {},
   "outputs": [],
   "source": [
    "# Takes a csv file and reads all the data\n",
    "def getdata(file):\n",
    "    colnames = ['i','j','data']\n",
    "    File_Data = pd.read_csv(file, names=colnames)\n",
    "    \n",
    "    return list(File_Data['data'])"
   ]
  },
  {
   "cell_type": "code",
   "execution_count": 542,
   "id": "630f1107",
   "metadata": {},
   "outputs": [],
   "source": [
    "Trial_Data = []\n",
    "\n",
    "for x in range(len(Files)):\n",
    "    Trial_Data.append(getdata(Files[x]))\n",
    "    \n",
    "for y in range(len(Trial_Data)):\n",
    "    Trial_Data[y].append(0)"
   ]
  },
  {
   "cell_type": "markdown",
   "id": "1bd81571",
   "metadata": {},
   "source": [
    "### Getting Ready to Graph"
   ]
  },
  {
   "cell_type": "code",
   "execution_count": 2,
   "id": "b409c91a",
   "metadata": {},
   "outputs": [],
   "source": [
    "# Creates a meshgrid of a given n value to graph a torus\n",
    "def mesh(n):\n",
    "    grid = np.meshgrid(np.sqrt(n),np.sqrt(n), indexing='ij')\n",
    "    return grid"
   ]
  },
  {
   "cell_type": "code",
   "execution_count": 49,
   "id": "0ba596c8",
   "metadata": {},
   "outputs": [],
   "source": [
    "Torus = []\n",
    "\n",
    "for n in range(len(N)):\n",
    "    Torus.append(mesh(int(N[n])))"
   ]
  },
  {
   "cell_type": "code",
   "execution_count": 68,
   "id": "06886e34",
   "metadata": {},
   "outputs": [],
   "source": [
    "# The function which graphs all the n and s values specified by the user. Any number of n values, maximum of nine s values\n",
    "def graphTorus(n):\n",
    "    index = N.index(str(n))\n",
    "    \n",
    "    \n",
    "    fig = plt.figure(figsize =(10,10))\n",
    "    plt.style.use('fivethirtyeight')\n",
    "    fig.suptitle(\"N = {}\".format(n), fontsize=15)\n",
    "    \n",
    "    if len(S)>0:\n",
    "        ax1 = plt.subplot(331)\n",
    "        ax1.scatter(Torus[0][0],Torus[0][1], cmap='coolwarm', c = Trial_Data[(index*len(S))], s=100)\n",
    "    \n",
    "    if len(S)>1:\n",
    "        ax2 = plt.subplot(332)\n",
    "        ax2.scatter(Torus[1][0],Torus[1][1], cmap='coolwarm',c = Trial_Data[(index*len(S))+1], s=100)\n",
    "\n",
    "    if len(S)>2:\n",
    "        ax3 = plt.subplot(333)\n",
    "        ax3.scatter(Torus[2][0],Torus[2][1], cmap='coolwarm',c = Trial_Data[(index*len(S))+2], s=100)\n",
    "    \n",
    "    if len(S)>3:\n",
    "        ax4 = plt.subplot(334)\n",
    "        ax4.scatter(Torus[3][0],Torus[3][1], cmap='coolwarm',c = Trial_Data[(index*len(S))+3], s=100)\n",
    "    \n",
    "    if len(S)>4:\n",
    "        ax5 = plt.subplot(335)\n",
    "        ax5.scatter(Torus[4][0],Torus[4][1], cmap='coolwarm',c = Trial_Data[(index*len(S))+4], s=100)\n",
    "    \n",
    "    if len(S)>5:\n",
    "        ax6 = plt.subplot(336)\n",
    "        ax6.scatter(Torus[5][0],Torus[5][1], cmap='coolwarm',c = Trial_Data[(index*len(S))+5], s=100)\n",
    "        \n",
    "    if len(S)>6:\n",
    "        ax7 = plt.subplot(337)\n",
    "        ax7.scatter(Torus[6][0],Torus[6][1], cmap='coolwarm',c = Trial_Data[(index*len(S))+6], s=100)\n",
    "        \n",
    "    if len(S)>7:\n",
    "        ax8 = plt.subplot(338)\n",
    "        ax8.scatter(Torus[7][0],Torus[7][1], cmap='coolwarm',c = Trial_Data[(index*len(S))+7], s=100)\n",
    "        \n",
    "    if len(S)>8:\n",
    "        ax9 = plt.subplot(339)\n",
    "        ax9.scatter(Torus[8][0],Torus[8][1], cmap='coolwarm',c = Trial_Data[(index*len(S))+8], s=100)\n",
    "        \n",
    "    return plt.show"
   ]
  },
  {
   "cell_type": "markdown",
   "id": "7ebdec63",
   "metadata": {},
   "source": [
    "## Graphs"
   ]
  },
  {
   "cell_type": "code",
   "execution_count": null,
   "id": "a0727ecb",
   "metadata": {
    "scrolled": false
   },
   "outputs": [],
   "source": [
    "for n in range(len(N)):\n",
    "    graphTorus(int(N[n]))"
   ]
  },
  {
   "cell_type": "code",
   "execution_count": null,
   "id": "3cbd23d4",
   "metadata": {},
   "outputs": [],
   "source": []
  }
 ],
 "metadata": {
  "kernelspec": {
   "display_name": "Python 3 (ipykernel)",
   "language": "python",
   "name": "python3"
  },
  "language_info": {
   "codemirror_mode": {
    "name": "ipython",
    "version": 3
   },
   "file_extension": ".py",
   "mimetype": "text/x-python",
   "name": "python",
   "nbconvert_exporter": "python",
   "pygments_lexer": "ipython3",
   "version": "3.9.12"
  }
 },
 "nbformat": 4,
 "nbformat_minor": 5
}

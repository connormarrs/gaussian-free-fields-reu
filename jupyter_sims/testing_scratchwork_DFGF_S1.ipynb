{
  "nbformat": 4,
  "nbformat_minor": 0,
  "metadata": {
    "colab": {
      "name": "testing_scratchwork_DFGF_S1.ipynb",
      "provenance": [],
      "collapsed_sections": []
    },
    "kernelspec": {
      "name": "python3",
      "display_name": "Python 3"
    },
    "language_info": {
      "name": "python"
    }
  },
  "cells": [
    {
      "cell_type": "code",
      "execution_count": null,
      "metadata": {
        "id": "dLgz-TN8qxJn"
      },
      "outputs": [],
      "source": [
        ""
      ]
    },
    {
      "cell_type": "markdown",
      "source": [
        "$$\n",
        "  f_r(\\theta_k) = \\begin{cases}\n",
        "      \\frac{\\sqrt{2}}{2}(-1)^k & n\\equiv 0 \\mod 2 \\quad \\& r=\\frac{n}{2} \\\\\n",
        "      \\frac{\\sqrt{2}}{2}\\cos(\\frac{2\\pi rk}{n}) & r<⌈\\frac{n}{2}⌉ \\\\\n",
        "      \\frac{\\sqrt{2}}{2}\\sin(\\frac{2\\pi rk}{n}) & \\text{else}\n",
        "  \\end{cases}\n",
        "$$"
      ],
      "metadata": {
        "id": "X2xs6VWTqyXM"
      }
    },
    {
      "cell_type": "code",
      "source": [
        "import numpy as np"
      ],
      "metadata": {
        "id": "jAwi2X99re5J"
      },
      "execution_count": 2,
      "outputs": []
    },
    {
      "cell_type": "code",
      "source": [
        "# N=15 CASE GENERATE SAMPLE EIGENVECTORS\n",
        "\n",
        "n=15\n",
        "\n",
        "vals = np.array(\n",
        "    [[np.sqrt(2)/2*np.cos((2*(np.pi)*(r)*(k)/n) ) for k in range(15)] for r in range(1,int(np.ceil(n/2))) ]\n",
        ")\n",
        "\n",
        "print(\"cosine vals\")\n",
        "print(repr(vals))\n",
        "\n",
        "vals = np.array(\n",
        "    [[np.sqrt(2)/2*np.sin((2*(np.pi)*(r)*(k)/n) ) for k in range(15)] for r in range(int(np.ceil(n/2)), n) ]\n",
        ")\n",
        "\n",
        "print(\"sine vals\")\n",
        "print(repr(vals))"
      ],
      "metadata": {
        "id": "zj_V0HQU5KuL"
      },
      "execution_count": null,
      "outputs": []
    },
    {
      "cell_type": "code",
      "source": [
        "# M=15 CASE GENERATE SAMPLE EIGENVECTORS\n",
        "\n",
        "m=15\n",
        "\n",
        "def eigenvalue(r):\n",
        "  return pow(m,2)/(2*pow(np.pi,2))*(1.0-np.cos(2.0*np.pi*r/m))\n",
        "\n",
        "def eigenfunction_cosine(r,k):\n",
        "  return np.sqrt(2)/2*np.cos((2*(np.pi)*(r)*(k)/m))\n",
        "\n",
        "def eigenfunction_sine(r,k):\n",
        "  return np.sqrt(2)/2*np.sin((2*(np.pi)*(r)*(k)/m))\n",
        "\n",
        "eigenvals = np.array(\n",
        "    [eigenvalue(r) for r in range(1,15)]\n",
        ")\n",
        "\n",
        "print(\"eigenvalues\")\n",
        "print(repr(eigenvals))\n",
        "\n",
        "vect_vals_cos = np.array(\n",
        "    [[(eigenfunction_cosine(r,k)) for k in range(15)] for r in range(1,int(np.ceil(m/2))) ]\n",
        ")\n",
        "\n",
        "print(\"cosine vals\")\n",
        "print(repr(vals))\n",
        "\n",
        "vect_vals_sin = np.array(\n",
        "    [[(eigenfunction_sine(r,k)) for k in range(15)] for r in range(int(np.ceil(m/2)), m) ]\n",
        ")\n",
        "\n",
        "print(\"sine vals\")\n",
        "print(repr(vals))"
      ],
      "metadata": {
        "id": "cJkJhGVWjb01"
      },
      "execution_count": null,
      "outputs": []
    },
    {
      "cell_type": "code",
      "source": [
        "coeff_vals_cos = np.array(\n",
        "    [[pow(eigenvalue(r),-.25)*(eigenfunction_cosine(r,k)) for k in range(m)] for r in range(1,int(np.ceil(m/2))) ]\n",
        ")\n",
        "\n",
        "print(\"cosine coeffs\")\n",
        "print(repr(coeff_vals_cos))\n",
        "\n",
        "coeff_vals_sin = np.array(\n",
        "    [[pow(eigenvalue(r),-.25)*(eigenfunction_sine(r,k)) for k in range(m)] for r in range(int(np.ceil(m/2)), m) ]\n",
        ")\n",
        "\n",
        "print(\"sine coeffs\")\n",
        "print(repr(coeff_vals_sin))"
      ],
      "metadata": {
        "id": "wHkVrgnplNz0"
      },
      "execution_count": null,
      "outputs": []
    },
    {
      "cell_type": "code",
      "source": [
        "# N=10 CASE GENERATE SAMPLE EIGENVECTORS\n",
        "\n",
        "n=10\n",
        "\n",
        "def eigenvalue(r):\n",
        "  return pow(n,2)/(2*pow(np.pi,2))*(1.0-np.cos(2.0*np.pi*r/n))\n",
        "\n",
        "def eigenfunction_cosine(r,k):\n",
        "  return np.sqrt(2)/2*np.cos((2*(np.pi)*(r)*(k)/n))\n",
        "\n",
        "def eigenfunction_sine(r,k):\n",
        "  return np.sqrt(2)/2*np.sin((2*(np.pi)*(r)*(k)/n))\n",
        "\n",
        "eigenvals = np.array(\n",
        "    [eigenvalue(r) for r in range(1,n)]\n",
        ")\n",
        "\n",
        "print(\"eigenvalues\")\n",
        "print(repr(eigenvals))\n",
        "\n",
        "vect_vals_cos = np.array(\n",
        "    [[(eigenfunction_cosine(r,k)) for k in range(15)] for r in range(1,int(np.ceil(n/2))) ]\n",
        ")\n",
        "\n",
        "print(\"cosine vals\")\n",
        "print(repr(vals))\n",
        "\n",
        "vect_vals_alt = np.array(\n",
        "    [(np.sqrt(2.0)/2.0)*pow(-1,k) for k in range(15)]\n",
        ")\n",
        "\n",
        "print(\"alternating vals\")\n",
        "print(repr(vect_vals_alt))\n",
        "\n",
        "vect_vals_sin = np.array(\n",
        "    [[(eigenfunction_sine(r,k)) for k in range(15)] for r in range(int(np.ceil(n/2))+1, n) ]\n",
        ")\n",
        "\n",
        "print(\"sine vals\")\n",
        "print(repr(vect_vals_sin))"
      ],
      "metadata": {
        "id": "ARqFbOHfnLwO"
      },
      "execution_count": null,
      "outputs": []
    },
    {
      "cell_type": "code",
      "source": [
        "coeff_vals_cos = np.array(\n",
        "    [[pow(eigenvalue(r),-.25)*(eigenfunction_cosine(r,k)) for k in range(10)] for r in range(1,int(np.ceil(n/2))) ]\n",
        ")\n",
        "\n",
        "print(\"cosine coeffs\")\n",
        "print(repr(coeff_vals_cos))\n",
        "\n",
        "coeff_vals_alt = np.array(\n",
        "    [pow(eigenvalue(5),-0.25)*(np.sqrt(2.0)/2.0)*pow(-1,k) for k in range(10)]\n",
        ")\n",
        "\n",
        "print(\"alternating vals\")\n",
        "print(repr(coeff_vals_alt))\n",
        "\n",
        "coeff_vals_sin = np.array(\n",
        "    [[pow(eigenvalue(r),-.25)*(eigenfunction_sine(r,k)) for k in range(10)] for r in range(int(np.ceil(n/2))+1, n) ]\n",
        ")\n",
        "\n",
        "print(\"sine coeffs\")\n",
        "print(repr(coeff_vals_sin))"
      ],
      "metadata": {
        "id": "e07JtLbkoEiT"
      },
      "execution_count": null,
      "outputs": []
    },
    {
      "cell_type": "code",
      "source": [
        "import numpy as np\n",
        "\n",
        "# M=15 CASE GENERATE SAMPLE EIGENVECTORS\n",
        "\n",
        "m=15\n",
        "n=10\n",
        "\n",
        "sample_random_vector_n = [8.7, 99.523, 0.678, 1.0, 6.9, 8.889, 4.567, 3.149, 26.5833, 17.0]\n",
        "sample_random_vector_m = [8.7, 99.523, 0.678, 1.0, 6.9, 8.889, 4.567, 3.149, 26.5833, 17.0, 1.242, 5.2724, 2.174, 8.83, 3.457]\n",
        "\n",
        "def eigenvalue(r,N):\n",
        "  return pow(N,2)/(2*pow(np.pi,2))*(1.0-np.cos(2.0*np.pi*r/N))\n",
        "\n",
        "def eigenfunction(r,k,N):\n",
        "  if(N%2==0 and r==N/2):\n",
        "    return np.sqrt(2)/2*pow(-1,k)\n",
        "  elif(r<np.ceil(N/2)):\n",
        "    return np.sqrt(2)/2*np.cos((2*(np.pi)*(r)*(k)/N))\n",
        "  else:\n",
        "    return np.sqrt(2)/2*np.sin((2*(np.pi)*(r)*(k)/N))\n",
        "\n",
        "def dfgf_value(k,N,randVec):\n",
        "  sum = 0\n",
        "  for r in range(1,N):\n",
        "    sum+=pow(eigenvalue(r,N),-.25)*eigenfunction(r,k,N)*randVec[r]\n",
        "  return sum"
      ],
      "metadata": {
        "id": "MLI4bIz2_XVw"
      },
      "execution_count": 12,
      "outputs": []
    },
    {
      "cell_type": "code",
      "source": [
        "dfgf_values_n = [dfgf_value(k,n,sample_random_vector_n) for k in range(n)]\n",
        "dfgf_values_m = [dfgf_value(k,m,sample_random_vector_m) for k in range(m)]\n",
        "\n",
        "print(\"N=10 values\")\n",
        "print(dfgf_values_n)\n",
        "\n",
        "print(\"M=15 values\")\n",
        "print(dfgf_values_m)"
      ],
      "metadata": {
        "id": "uBBPdJsU9PDj"
      },
      "execution_count": null,
      "outputs": []
    }
  ]
}
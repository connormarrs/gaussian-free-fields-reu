{
 "cells": [
  {
   "cell_type": "code",
   "execution_count": 5,
   "metadata": {},
   "outputs": [
    {
     "ename": "TypeError",
     "evalue": "float() argument must be a string or a real number, not 'list'",
     "output_type": "error",
     "traceback": [
      "\u001b[0;31m---------------------------------------------------------------------------\u001b[0m",
      "\u001b[0;31mTypeError\u001b[0m                                 Traceback (most recent call last)",
      "\u001b[1;32m/home/dirtyslut69/gaussian-free-fields-reu/jupyter_sims/RandVec_test.ipynb Cell 1\u001b[0m in \u001b[0;36m<cell line: 9>\u001b[0;34m()\u001b[0m\n\u001b[1;32m     <a href='vscode-notebook-cell://ssh-remote%2B44.201.187.209/home/dirtyslut69/gaussian-free-fields-reu/jupyter_sims/RandVec_test.ipynb#ch0000000vscode-remote?line=9'>10</a>\u001b[0m     csvreader \u001b[39m=\u001b[39m csv\u001b[39m.\u001b[39mreader(file)\n\u001b[1;32m     <a href='vscode-notebook-cell://ssh-remote%2B44.201.187.209/home/dirtyslut69/gaussian-free-fields-reu/jupyter_sims/RandVec_test.ipynb#ch0000000vscode-remote?line=10'>11</a>\u001b[0m     \u001b[39mfor\u001b[39;00m row \u001b[39min\u001b[39;00m csvreader:\n\u001b[0;32m---> <a href='vscode-notebook-cell://ssh-remote%2B44.201.187.209/home/dirtyslut69/gaussian-free-fields-reu/jupyter_sims/RandVec_test.ipynb#ch0000000vscode-remote?line=11'>12</a>\u001b[0m         data \u001b[39m=\u001b[39m \u001b[39mfloat\u001b[39;49m(\u001b[39mlist\u001b[39;49m(num))\n\u001b[1;32m     <a href='vscode-notebook-cell://ssh-remote%2B44.201.187.209/home/dirtyslut69/gaussian-free-fields-reu/jupyter_sims/RandVec_test.ipynb#ch0000000vscode-remote?line=12'>13</a>\u001b[0m display(data)\n",
      "\u001b[0;31mTypeError\u001b[0m: float() argument must be a string or a real number, not 'list'"
     ]
    }
   ],
   "source": [
    "import matplotlib.pyplot as plt\n",
    "import numpy as np\n",
    "import pandas as pd\n",
    "import math\n",
    "import time\n",
    "import csv\n",
    "\n",
    "%matplotlib inline\n",
    "with open(\"../simulations/test_suite/gaussVect.csv\", 'r') as file:\n",
    "    csvreader = csv.reader(file)\n",
    "    data = []\n",
    "    for row in csvreader:\n",
    "        data.append(float[num for num in row])\n",
    "display(data)\n"
   ]
  }
 ],
 "metadata": {
  "kernelspec": {
   "display_name": "Python 3.10.4 64-bit",
   "language": "python",
   "name": "python3"
  },
  "language_info": {
   "codemirror_mode": {
    "name": "ipython",
    "version": 3
   },
   "file_extension": ".py",
   "mimetype": "text/x-python",
   "name": "python",
   "nbconvert_exporter": "python",
   "pygments_lexer": "ipython3",
   "version": "3.10.4"
  },
  "orig_nbformat": 4,
  "vscode": {
   "interpreter": {
    "hash": "916dbcbb3f70747c44a77c7bcd40155683ae19c65e1c03b4aa3499c5328201f1"
   }
  }
 },
 "nbformat": 4,
 "nbformat_minor": 2
}

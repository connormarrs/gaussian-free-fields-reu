{
 "cells": [
  {
   "cell_type": "code",
   "execution_count": 2,
   "id": "086118da",
   "metadata": {},
   "outputs": [],
   "source": [
    "# This program is designed to generate heat maps for T2 from a folder of .csv files.\n",
    "\n",
    "# This cell is composed of the necessary imports and class formations for the program.\n",
    "\n",
    "# Used for math opperations:\n",
    "import numpy as np\n",
    "\n",
    "# Used for plotting data:\n",
    "import matplotlib.pyplot as plt\n",
    "\n",
    "# Used to read files:\n",
    "import pandas as pd"
   ]
  },
  {
   "cell_type": "code",
   "execution_count": null,
   "id": "baa39528",
   "metadata": {},
   "outputs": [],
   "source": [
    "'''This cell extracts a list of file names present in a folder, given the computer address of the folder. \n",
    "We need to draw a distinction between Windows devices and Mac/Linux devices because of the formatting\n",
    "of addresses. When given the address of the folder, getFile returns the name of the file in the folder associated \n",
    "to a given n and s. getFiles iterates over a list 'nVals' of desired n values as strings, and a list 'sVals' of\n",
    "desired s values as strings, and returns a list of the corresponding files.'''\n",
    "\n",
    "def getFile(address: str, n: str, s: str) -> str:\n",
    "    name = address + '/' + n + '_' + s + '.csv'\n",
    "    return name\n",
    "\n",
    "\n",
    "def getFiles(address: str, nVals: list[str], sVals: list[str]) -> list[str]:\n",
    "    files = [getFile(address, n, s) for n in nVals for s in sVals]\n",
    "    return files\n",
    "\n",
    "def getFileWindows(address: str, n: str, s: str) -> str:\n",
    "    name = address + '\\\\' + n + '_' + s + '.csv'\n",
    "    return name\n",
    "\n",
    "\n",
    "def getFilesWindows(address: str, nVals: list[str], sVals: list[str]) -> list[str]:\n",
    "    files = [getFileWindows(address, n, s) for n in nVals for s in sVals]\n",
    "    return files"
   ]
  },
  {
   "cell_type": "code",
   "execution_count": null,
   "id": "92b1fcea",
   "metadata": {},
   "outputs": [],
   "source": [
    "'''This cell retrieves the data frames from the files in the folder. getDataFrame is able to obtain the data\n",
    "frame of a given file, and getDataFrames iterates over all files obtained by getfiles and returns a list of\n",
    "the corresponding dataframes. getAllTrialData then uses this list to produce a list of the 'datum' columns \n",
    "of these data frames, converted into lists form.'''\n",
    "\n",
    "\n",
    "def getDataFrame(file: str) -> pd.core.frame.DataFrame:\n",
    "    colnames = ['i', 'j', 'datum']\n",
    "    try: \n",
    "        fileData = pd.read_csv(file, names=colnames)\n",
    "    except: \n",
    "        print(\"{} does not exist\".format(file))\n",
    "    return fileData\n",
    "\n",
    "\n",
    "def getDataFrames(files: list[str]) -> list[pd.core.frame.DataFrame]:\n",
    "    allData = [getDataFrame(file) for file in files]\n",
    "    return allData\n",
    "\n",
    "\n",
    "def getAllTrialData(files: list[str]) -> list[list[int]]:\n",
    "    allTrialData = [list(dataFrame['datum']) for dataFrame in getDataFrames(files)]\n",
    "    for trialData in allTrialData:\n",
    "        trialData.append(0)\n",
    "    return allTrialData"
   ]
  },
  {
   "cell_type": "code",
   "execution_count": 8,
   "id": "a42933f1",
   "metadata": {},
   "outputs": [],
   "source": [
    "'''This cell creates a grid for the torus. mesh generates a meshgrid of a given n value to graph a torus.\n",
    "getTori makes a list of these mesh grids for each n value.'''\n",
    "\n",
    "def mesh(n: int) -> list[np.ndarray]:\n",
    "    grid = np.meshgrid([i for i in range(int(np.sqrt(n)))], [i for i in range(int(np.sqrt(n)))], indexing='ij')\n",
    "    return grid\n",
    "\n",
    "def getTori(nVals: list[str]) -> list[list[np.ndarray]]:\n",
    "    tori = [mesh(int(n)) for n in nVals]"
   ]
  },
  {
   "cell_type": "code",
   "execution_count": null,
   "id": "47901340",
   "metadata": {},
   "outputs": [],
   "source": [
    "# This cell creates a heat maps for each specified s for a fixed n.\n",
    "\n",
    "def graphHeatMap(n: str, trialData: list[list[float]], sVals: list[str], nVals: list[str]) -> None:\n",
    "    index = nVals.index(n) # This will allow us to ensure that we get the appropriate thetas and line for n.\n",
    "    torus = getTori(nVals)\n",
    "    fig = plt.figure(figsize=(30,10*np.ceil(len(sVals)/3))) # Creates a plot.\n",
    "    plt.style.use('fivethirtyeight') # Specifies plot style.\n",
    "    fig.suptitle(\"N = {}\".format(n), fontsize=15) # Labes the heat maps according the n value.\n",
    "    # Creates an axis for each of the s values:\n",
    "    axes = [plt.subplot(np.ceil(len(sVals)/3), 3, 1 + i, projection='3d') for i in range(len(sVals))]\n",
    "    # Creates the heat maps:\n",
    "    for i in range(len(sVals)):\n",
    "        # torus[i][0] gets the x-values for the i'th torus; torus[i][1] gets the y-values for the i'th torus.\n",
    "        axes[i].scatter(torus[i][0], torus[i][1], cmap = 'coolwarm', c = trialData[(index*len(S))], s=100)\n",
    "        axes[i].set_title('s = {}'.format(sVals[i]))"
   ]
  },
  {
   "cell_type": "code",
   "execution_count": null,
   "id": "69e2a2c0",
   "metadata": {},
   "outputs": [],
   "source": [
    "# This cell creates all of the heat maps for all s and n specified. It runs graphHeatMap for each n specified.\n",
    "\n",
    "def graphHeatMaps(trialData: list[list[float]], sVals: list[str], nVals: list[str]) -> None:\n",
    "    for n in nVals:\n",
    "        graphHeatMap(n, trialData, sVals, nVals)"
   ]
  }
 ],
 "metadata": {
  "kernelspec": {
   "display_name": "Python 3 (ipykernel)",
   "language": "python",
   "name": "python3"
  },
  "language_info": {
   "codemirror_mode": {
    "name": "ipython",
    "version": 3
   },
   "file_extension": ".py",
   "mimetype": "text/x-python",
   "name": "python",
   "nbconvert_exporter": "python",
   "pygments_lexer": "ipython3",
   "version": "3.9.12"
  }
 },
 "nbformat": 4,
 "nbformat_minor": 5
}

{
 "cells": [
  {
   "cell_type": "code",
   "execution_count": 15,
   "id": "bc1834b4",
   "metadata": {},
   "outputs": [],
   "source": [
    "# This program is designed to generate a 3D maxima graph.\n",
    "\n",
    "# This cell is composed of the necessary imports and class formations for the program.\n",
    "\n",
    "# Used for plotting data:\n",
    "import matplotlib.pyplot as plt\n",
    "\n",
    "# Used to read files:\n",
    "import pandas as pd"
   ]
  },
  {
   "cell_type": "code",
   "execution_count": 16,
   "id": "08d11c5e",
   "metadata": {},
   "outputs": [],
   "source": [
    "'''This cell extracts a list of file names present in a folder, given the computer address of the folder. \n",
    "We need to draw a distinction between Windows devices and Mac/Linux devices because of the formatting\n",
    "of addresses. When given the address of the folder, getFile returns the name of the file in the folder associated \n",
    "to a given n and range of s values. getFiles gets all of the files with s between 'sStart' and 'sEnd' with step\n",
    "size .001, for all n between 'nStart' and 'nEnd' with step size 'nStep'.'''\n",
    "\n",
    "def getFile(address: str, sStart: str, sEnd: str, n: str) -> str:\n",
    "    name = address + '/' + n + '_s' + sStart + '-' + sEnd + '.csv'\n",
    "    return name\n",
    "\n",
    "\n",
    "def getFiles(address: str, sStart: str, sEnd: str, nStart: int, nEnd: int, nStep: int) -> list[str]:\n",
    "    files = [getFile(address, sStart, sEnd, str(n)) for n in range(nStart, nEnd + nStep, nStep)]\n",
    "    return files\n",
    "\n",
    "def getFileWindows(address: str, sStart: str, sEnd: str, n: str) -> str:\n",
    "    name = address + '\\\\' + n + '_s' + sStart + '-' + sEnd + '.csv'\n",
    "    return name\n",
    "\n",
    "\n",
    "def getFilesWindows(address: str, sStart: str, sEnd: str, nVals: list[str]) -> list[str]:\n",
    "    files = [getFileWindows(address, sStart, sEnd, n) for n in nVals]\n",
    "    return files"
   ]
  },
  {
   "cell_type": "code",
   "execution_count": 17,
   "id": "7e0c1ca5",
   "metadata": {},
   "outputs": [],
   "source": [
    "'''createSByNGraph takes in a folder of .csv files where s is not fixed, and produces a 3D graph with n on the\n",
    "x-axis, s on the y-axis, and the associated mean of maxima on the z-axis.'''\n",
    "\n",
    "def createSByNGraph(files: list[str]) -> None:\n",
    "    nVals = [] # n's for the x-axis.\n",
    "    sVals = [] # s's for the y-axis.\n",
    "    mVals = [] # means for the z-axis.\n",
    "    # We now read the columns of each file into 'nVals', 'sVal', and 'mVals', respectively:\n",
    "    for file in files:\n",
    "        colnames = ['nValue', 'sValue', 'expectedMean'] # Names the columns so they can be referrenced.\n",
    "        try:\n",
    "            df = pd.read_csv(file, names = colnames)\n",
    "        # Reads the file and saves it to df with the above column names:\n",
    "        except:\n",
    "            print(\"{} does not exist. Please make sure you selected the correct OS.\".format(file))\n",
    "        for i in range(1, len(df)): # We start at 1 because the column names take up row 0.\n",
    "            nVals.append(int(df.nValue[i]))\n",
    "            sVals.append(float(df.sValue[i]))\n",
    "            mVals.append(float(df.expectedMean[i]))\n",
    "    # We plot the graph:\n",
    "    ax = plt.axes(projection = '3d') # Creates the 3D-plot axes.\n",
    "    # Labels the axes accordingly:\n",
    "    ax.set_xlabel('n')\n",
    "    ax.set_ylabel('s')\n",
    "    ax.set_zlabel('E[Mn]')\n",
    "    # Creates the scatter plot with colors according to the mvals, cmap 'coolwarm', and opacity alpha = 1:\n",
    "    ax.scatter3D(nVals, sVals, mVals, c = mVals, cmap='coolwarm', alpha=1)"
   ]
  },
  {
   "cell_type": "code",
   "execution_count": 19,
   "id": "07020f28",
   "metadata": {},
   "outputs": [],
   "source": [
    "# address = '/Users/alexanderneuschotz/Downloads/Circle'\n",
    "# files = getFiles(address, '0.0', '0.5', 500, 1000, 10)\n",
    "\n",
    "# createSByNGraph(files)"
   ]
  }
 ],
 "metadata": {
  "kernelspec": {
   "display_name": "Python 3 (ipykernel)",
   "language": "python",
   "name": "python3"
  },
  "language_info": {
   "codemirror_mode": {
    "name": "ipython",
    "version": 3
   },
   "file_extension": ".py",
   "mimetype": "text/x-python",
   "name": "python",
   "nbconvert_exporter": "python",
   "pygments_lexer": "ipython3",
   "version": "3.9.12"
  }
 },
 "nbformat": 4,
 "nbformat_minor": 5
}

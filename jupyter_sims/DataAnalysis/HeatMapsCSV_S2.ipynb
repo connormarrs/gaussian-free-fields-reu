{
 "cells": [
  {
   "cell_type": "code",
   "execution_count": 1,
   "id": "e2afca41",
   "metadata": {},
   "outputs": [],
   "source": [
    "# This program is designed to generate heat maps for S2 from a folder of .csv files.\n",
    "\n",
    "# This cell is composed of the necessary imports and class formations for the program.\n",
    "\n",
    "# Used for math opperations:\n",
    "import numpy as np\n",
    "import math\n",
    "\n",
    "# Used for plotting data:\n",
    "import matplotlib.pyplot as plt\n",
    "\n",
    "# Used to read files:\n",
    "import pandas as pd"
   ]
  },
  {
   "cell_type": "code",
   "execution_count": 2,
   "id": "f16322e0",
   "metadata": {},
   "outputs": [],
   "source": [
    "'''This cell extracts a list of file names present in a folder, given the computer address of the folder. \n",
    "We need to draw a distinction between Windows devices and Mac/Linux devices because of the formatting\n",
    "of addresses. When given the address of the folder, getFile returns the name of the file in the folder associated \n",
    "to a given n and s. getFiles iterates over a list 'nVals' of desired n values as strings, and a list 'sVals' of\n",
    "desired s values as strings, and returns a list of the corresponding files.'''\n",
    "\n",
    "def getFile(address: str, n: str, s: str) -> str:\n",
    "    name = address + '/' + n + '_' + s + '.csv'\n",
    "    return name\n",
    "\n",
    "\n",
    "def getFiles(address: str, nVals: list[str], sVals: list[str]) -> list[str]:\n",
    "    files = [getFile(address, n, s) for n in nVals for s in sVals]\n",
    "    return files\n",
    "\n",
    "def getFileWindows(address: str, n: str, s: str) -> str:\n",
    "    name = address + '\\\\' + n + '_' + s + '.csv'\n",
    "    return name\n",
    "\n",
    "\n",
    "def getFilesWindows(address: str, nVals: list[str], sVals: list[str]) -> list[str]:\n",
    "    files = [getFileWindows(address, n, s) for n in nVals for s in sVals]\n",
    "    return files"
   ]
  },
  {
   "cell_type": "code",
   "execution_count": 3,
   "id": "6cbe2593",
   "metadata": {},
   "outputs": [],
   "source": [
    "'''This cell retrieves the data frames from the files in the folder. getDataFrame is able to obtain the data\n",
    "frame of a given file, and getDataFrames iterates over all files obtained by getfiles and returns a list of\n",
    "the corresponding dataframes. getTrialData then uses this list to produce and return a list of the columns \n",
    "of these data frames, converted into lists form.'''\n",
    "\n",
    "\n",
    "def getDataFrame(file: str) -> pd.core.frame.DataFrame or str:\n",
    "    colnames = ['theta', 'phi', 'datum']\n",
    "    try: \n",
    "        fileData = pd.read_csv(file, names=colnames)\n",
    "        return fileData\n",
    "    except: \n",
    "        return file\n",
    "\n",
    "\n",
    "def getDataFrames(files: list[str]) -> list[pd.core.frame.DataFrame]:\n",
    "    dataFrames = [getDataFrame(file) for file in files]\n",
    "    return dataFrames\n",
    "\n",
    "\n",
    "def getTrialData(files: list[str]) -> tuple[list[list[float]], list[list[float]], list[list[float]], list[str]]:\n",
    "    allThetas = []\n",
    "    allPhis = []\n",
    "    trialData = []\n",
    "    badFiles = []\n",
    "    for dataFrame in getDataFrames(files):\n",
    "        if type(dataFrame) == str:\n",
    "            badFiles.append(dataFrame)\n",
    "        else:\n",
    "            allThetas.append(list(dataFrame['theta']))\n",
    "            allPhis.append(list(dataFrame['phi']))\n",
    "            trialData.append(list(dataFrame['datum']))\n",
    "    return allThetas, allPhis, trialData, badFiles"
   ]
  },
  {
   "cell_type": "code",
   "execution_count": 4,
   "id": "a5224a98",
   "metadata": {},
   "outputs": [],
   "source": [
    "# This cell creates a heat maps for each specified s for a fixed n.\n",
    "\n",
    "def graphHeatMap(n: str, allThetas: list[list[float]], allPhis: list[list[float]], trialData: list[list[float]], \n",
    "                 sVals: list[str], nVals: list[str]) -> None:\n",
    "    index = nVals.index(n) # This will allow us to ensure that we get the appropriate thetas and line for n.\n",
    "    fig = plt.figure(figsize=(30,10*math.ceil(len(sVals)/3))) # Creates a plot.\n",
    "    plt.style.use('fivethirtyeight') # Specifies plot style.\n",
    "    fig.suptitle(\"N = {}\".format(n), fontsize=15) # Labes the heat maps according the n value.\n",
    "    # Creates an axis for each of the s values:\n",
    "    axes = [plt.subplot(math.ceil(len(sVals)/3), 3, 1 + i, projection='3d') for i in range(len(sVals))]\n",
    "    # Creates the heat maps:\n",
    "    for i in range(len(sVals)):\n",
    "        # allThetas[i] gets the θ-values for the i'th sphere; allPhis[i] gets the φ-values for the i'th sphere.\n",
    "        axes[i].scatter(allThetas[index*len(sVals) + i], allPhis[index*len(sVals) + i], cmap='coolwarm', \n",
    "                        c = trialData[index*len(sVals) + i], s=100)\n",
    "        axes[i].set_title('s = {}'.format(sVals[i]))"
   ]
  },
  {
   "cell_type": "code",
   "execution_count": 5,
   "id": "eea4852a",
   "metadata": {},
   "outputs": [],
   "source": [
    "# This cell creates all of the heat maps for all s and n specified. It runs graphHeatMap for each n specified.\n",
    "\n",
    "def graphHeatMaps(allThetas: list[list[float]], allPhis: list[list[float]], trialData: list[list[float]],\n",
    "                  sVals: list[str], nVals: list[str], badFiles: list[str]) -> None or str:\n",
    "    if not badFiles:\n",
    "        for n in nVals:\n",
    "            graphHeatMap(n, allThetas, allPhis, trialData, sVals, nVals)\n",
    "    else:\n",
    "        print(\"The heat maps could not be generated because the following files could not be located:\")\n",
    "        for badFile in badFiles:\n",
    "            print(badFile)\n",
    "        print(\"Please remove the problematic s and n values from your inputs and try again.\")"
   ]
  },
  {
   "cell_type": "code",
   "execution_count": 6,
   "id": "daa4c389",
   "metadata": {},
   "outputs": [],
   "source": [
    "# address = '/Users/alexanderneuschotz/Downloads/ForAlexander/SHeatMap'\n",
    "\n",
    "# nList = ['10', '11']\n",
    "# sListPadded = ['0.000000', '0.250000', '0.500000']\n",
    "\n",
    "# files = getFiles(address, nList, sListPadded)\n",
    "# allThetas, allPhis, trialData, badFiles = getTrialData(files)\n",
    "# graphHeatMaps(allThetas, allPhis, trialData, sListPadded, nList, badFiles)"
   ]
  }
 ],
 "metadata": {
  "kernelspec": {
   "display_name": "Python 3 (ipykernel)",
   "language": "python",
   "name": "python3"
  },
  "language_info": {
   "codemirror_mode": {
    "name": "ipython",
    "version": 3
   },
   "file_extension": ".py",
   "mimetype": "text/x-python",
   "name": "python",
   "nbconvert_exporter": "python",
   "pygments_lexer": "ipython3",
   "version": "3.9.12"
  }
 },
 "nbformat": 4,
 "nbformat_minor": 5
}

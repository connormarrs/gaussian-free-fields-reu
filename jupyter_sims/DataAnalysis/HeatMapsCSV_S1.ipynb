{
 "cells": [
  {
   "cell_type": "code",
   "execution_count": 23,
   "id": "f47a3970",
   "metadata": {},
   "outputs": [],
   "source": [
    "# This program is designed to generate heat maps for S1 from a folder of .csv files.\n",
    "\n",
    "\n",
    "# This cell is composed of the necessary imports and class formations for the program.\n",
    "\n",
    "# Used for math opperations:\n",
    "import numpy as np\n",
    "import math\n",
    "\n",
    "# Used for plotting data:\n",
    "import matplotlib.pyplot as plt\n",
    "\n",
    "# Used to read files:\n",
    "import pandas as pd"
   ]
  },
  {
   "cell_type": "code",
   "execution_count": 15,
   "id": "ea7a7e66",
   "metadata": {},
   "outputs": [],
   "source": [
    "'''This cell extracts a list of file names present in a folder, given the computer address of the folder. \n",
    "We need to draw a distinction between Windows devices and Mac/Linux devices because of the formatting\n",
    "of addresses. When given the address of the folder, getFile returns the name of the file in the folder associated \n",
    "to a given n and s. getFiles iterates over a list 'nVals' of desired n values as strings, and a list 'sVals' of\n",
    "desired s values as strings, and returns a list of the corresponding files.'''\n",
    "\n",
    "def getFile(address: str, n: str, s: str) -> str:\n",
    "    name = address + '/' + n + '_' + s + '.csv'\n",
    "    return name\n",
    "\n",
    "\n",
    "def getFiles(address: str, nVals: list[str], sVals: list[str]) -> list[str]:\n",
    "    files = [getFile(address, n, s) for n in nVals for s in sVals]\n",
    "    return files\n",
    "\n",
    "def getFileWindows(address: str, n: str, s: str) -> str:\n",
    "    name = address + '\\\\' + n + '_' + s + '.csv'\n",
    "    return name\n",
    "\n",
    "\n",
    "def getFilesWindows(address: str, nVals: list[str], sVals: list[str]) -> list[str]:\n",
    "    files = [getFileWindows(address, n, s) for n in nVals for s in sVals]\n",
    "    return files"
   ]
  },
  {
   "cell_type": "code",
   "execution_count": 22,
   "id": "acee11f3",
   "metadata": {},
   "outputs": [],
   "source": [
    "'''This cell retrieves the data frames from the files in the folder. getDataFrame is able to obtain the data\n",
    "frame of a given file, and getDataFrames iterates over all files obtained by getfiles and returns a list of\n",
    "the corresponding datarames. getAllTrialData then uses this list to produce a list of the 'datum' columns \n",
    "of these data frames, converted into lists form.'''\n",
    "\n",
    "\n",
    "def getDataFrame(file: str) -> pd.core.frame.DataFrame:\n",
    "    colnames = ['k','datum']\n",
    "    try: \n",
    "        fileData = pd.read_csv(file, names=colnames)\n",
    "    except: \n",
    "        print(\"{} does not exist\".format(file))\n",
    "    return fileData\n",
    "\n",
    "def getDataFrames(files: list[str]) -> list[pd.core.frame.DataFrame]:\n",
    "    allData = [getDataFrame(file) for file in files]\n",
    "    return allData\n",
    "\n",
    "\n",
    "def getAllTrialData(files: list[str]) -> list[list[int]]:\n",
    "    allTrialData = [list(dataFrame['datum']) for dataFrame in getDataFrames(files)]\n",
    "    for trialData in allTrialData:\n",
    "        trialData.append(0)\n",
    "    return allTrialData"
   ]
  },
  {
   "cell_type": "code",
   "execution_count": 18,
   "id": "6fd1d4b8",
   "metadata": {},
   "outputs": [],
   "source": [
    "'''This cell creates functions that will produce thetas and a line of zeroes for a given n. The line will be \n",
    "used as the z-axis of the circle plots of the heat maps to ensure that they lie on the plane z = 0 for reference.\n",
    "The thetas will be used to parametrize the scatterplot on the circle.'''\n",
    "\n",
    "def getThetas(n):\n",
    "    thetas = [(2*np.pi*k)/n for k in range(0, n+1)]\n",
    "    return thetas\n",
    "\n",
    "def getLine(n):\n",
    "    line = [0 for k in range(n+1)]\n",
    "    return line"
   ]
  },
  {
   "cell_type": "code",
   "execution_count": 19,
   "id": "c4c144b1",
   "metadata": {},
   "outputs": [],
   "source": [
    "# This cell creates a heat maps for each specified s for a fixed n.\n",
    "\n",
    "def graphHeatMap(n: str, trialData: list[list[int]], sVals: list[str], nVals: list[str]) -> None:\n",
    "    index = nVals.index(n) # This will allow us to ensure that we get the appropriate thetas and line for n.\n",
    "    thetas = getThetas(int(nVals[index])) # Obtains the thetas.\n",
    "    line = getLine(int(nVals[index])) # Obtains tthe line.\n",
    "    fig = plt.figure(figsize=(30,10*math.ceil(len(sVals)/3))) # Creates a plot.\n",
    "    fig.suptitle(\"N = {}\".format(n), fontsize=15) # Labes the heat maps according the n value.\n",
    "    # Creates an axis for each of the s values:\n",
    "    axes = [plt.subplot(math.ceil(len(sVals)/3), 3, 1 + i, projection='3d') for i in range(len(sVals))]\n",
    "    # Creates the heat maps:\n",
    "    for i in range(len(sVals)):\n",
    "        # Plots a black circle with the x- and y-values sin(thetas) and cos(thetas), and z = 0:\n",
    "        axes[i].plot3D(np.cos(thetas), np.sin(thetas), line, alpha = .75, c = 'black')\n",
    "        # Plots a 'coolwarm' heat map on the black circle according to the values of trialData[index*len(sVals)]:\n",
    "        axes[i].scatter3D(np.cos(thetas), np.sin(thetas), line, cmap = 'coolwarm', c = trialData[index*len(sVals) + i], alpha = 1, s = 100)\n",
    "        # Labels the graph according to the s-value:\n",
    "        axes[i].set_title('s = {}'.format(sVals[i]))"
   ]
  },
  {
   "cell_type": "code",
   "execution_count": 20,
   "id": "9308dc4f",
   "metadata": {},
   "outputs": [],
   "source": [
    "# This cell creates all of the heat maps for all s and n specified. It runs graphHeatMap for each n specified.\n",
    "\n",
    "def graphHeatMaps(trialData: list[list[int]], nVals: list[str], sVals: list[str]) -> None:\n",
    "    for n in nVals:\n",
    "        graphHeatMap(n, trialData, sVals, nVals)"
   ]
  },
  {
   "cell_type": "code",
   "execution_count": 13,
   "id": "ab951add",
   "metadata": {},
   "outputs": [],
   "source": [
    "# address = '/Users/alexanderneuschotz/Downloads/data2'\n",
    "# nVals = ['10', '100', '10000']\n",
    "# sVals = ['0.000000', '0.225000', '0.250000', '0.500000']\n",
    "# files = getFiles(address, nVals, sVals)\n",
    "# trialData = getAllTrialData(files)\n",
    "# graphHeatMaps(trialData, nVals, sVals)"
   ]
  },
  {
   "cell_type": "code",
   "execution_count": null,
   "id": "5cd3e79f",
   "metadata": {},
   "outputs": [],
   "source": []
  }
 ],
 "metadata": {
  "kernelspec": {
   "display_name": "Python 3 (ipykernel)",
   "language": "python",
   "name": "python3"
  },
  "language_info": {
   "codemirror_mode": {
    "name": "ipython",
    "version": 3
   },
   "file_extension": ".py",
   "mimetype": "text/x-python",
   "name": "python",
   "nbconvert_exporter": "python",
   "pygments_lexer": "ipython3",
   "version": "3.9.12"
  }
 },
 "nbformat": 4,
 "nbformat_minor": 5
}

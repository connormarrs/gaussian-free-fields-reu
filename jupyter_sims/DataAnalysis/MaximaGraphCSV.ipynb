{
 "cells": [
  {
   "cell_type": "code",
   "execution_count": 9,
   "id": "f47a3970",
   "metadata": {},
   "outputs": [],
   "source": [
    "# This program is designed to generate a 2D maxima graph for a fixed s from a folder of .csv files.\n",
    "\n",
    "# This cell is composed of the necessary imports and class formations for the program.\n",
    "\n",
    "# Used for plotting data:\n",
    "import matplotlib.pyplot as plt\n",
    "\n",
    "# Used to read files:\n",
    "import pandas as pd"
   ]
  },
  {
   "cell_type": "code",
   "execution_count": 1,
   "id": "ea7a7e66",
   "metadata": {},
   "outputs": [],
   "source": [
    "'''This cell extracts a list of file names present in a folder, given the computer address of the folder. \n",
    "We need to draw a distinction between Windows devices and Mac/Linux devices because of the formatting\n",
    "of addresses. When given the address of the folder, getFile returns the name of the file in the folder associated \n",
    "to a given value n and range of s values. getFiles gets all of the files with the given s range for n between\n",
    "'nStart' and 'nEnd' with step size 'nStep'. '''\n",
    "\n",
    "def getFile(address: str, sStart: str, sEnd: str, n: str) -> str:\n",
    "    name = address + '/' + n + '_s' + sStart + '-' + sEnd + '.csv'\n",
    "    return name\n",
    "\n",
    "\n",
    "def getFiles(address: str, sStart: str, sEnd: str, nStart: int, nEnd: int, nStep: int) -> list[str] or bool:\n",
    "    if nStart > nEnd:\n",
    "        print(\"n range: start: {0} cannot be greater than end: {1}.\".format(str(nStart), str(nEnd)))\n",
    "        return False\n",
    "    else:\n",
    "        files = [getFile(address, sStart, sEnd, str(n)) for n in range(nStart, nEnd + nStep, nStep)]\n",
    "        if files == []:\n",
    "            print(\"n range: start: {0}; stop: {1}; step: {2} produces no n values.\".format(\n",
    "                str(nStart), str(nEnd), str(nStep), file = sys.stderr))\n",
    "            return False\n",
    "    return files\n",
    "\n",
    "def getFileWindows(address: str, sStart: str, sEnd: str, n: str) -> str:\n",
    "    name = address + '\\\\' + n + '_s' + sStart + '-' + sEnd + '.csv'\n",
    "    return name\n",
    "\n",
    "\n",
    "def getFilesWindows(address: str, sStart: str, sEnd: str, nStart: int, nEnd: int, nStep: int) -> list[str] or bool:\n",
    "    if nStart > nEnd:\n",
    "        print(\"n range: start: {0} cannot be greater than end: {1}\".format(str(nStart), str(nEnd)))\n",
    "        return False\n",
    "    else:\n",
    "        files = [getFileWindows(address, sStart, sEnd, str(n)) for n in range(nStart, nEnd + nStep, nStep)]\n",
    "        if files == []:\n",
    "            print(\"n range: start: {0}; stop: {1}; step: {2} produces no n values.\".format(\n",
    "                str(nStart), str(nEnd), str(nStep), file = sys.stderr))\n",
    "            return False\n",
    "    return files"
   ]
  },
  {
   "cell_type": "code",
   "execution_count": 2,
   "id": "acee11f3",
   "metadata": {},
   "outputs": [],
   "source": [
    "'''This cell retrieves the relevant data from the files in the folder. getPoint takes in a file and a specified\n",
    "s value, and returns the mean and n value in the row of that given s.'''\n",
    "\n",
    "\n",
    "def getPoint(file: str, sStart: float, s: float) -> tuple[int, float] or str:\n",
    "    colnames = ['nValue','sValue', 'expectedMean']\n",
    "    try: \n",
    "        df = pd.read_csv(file, names=colnames)\n",
    "    except: \n",
    "        return 'nonexistent'\n",
    "    row = (s - sStart)*1000 + 1 # This will be the row associated to the given s if the stepsize is .001.\n",
    "    try:\n",
    "        n = df.nValue[int(row)],\n",
    "        mean = df.expectedMean[int(row)]\n",
    "        return n, mean\n",
    "    except:\n",
    "        return 'missing s'"
   ]
  },
  {
   "cell_type": "code",
   "execution_count": 3,
   "id": "d1e5cab7",
   "metadata": {},
   "outputs": [],
   "source": [
    "'''This cell creates the 2D graph, whose x-axis is n values, and whose y-axis is E[max^n_s], given a folder of\n",
    ".csv files; 'sStart', the first value in the range of s values; and a specified parameter 's'.'''\n",
    "\n",
    "def createMaximaGraph(files: list[str], sStart: float, s: float) -> None and str:\n",
    "    nVals = [] # n's for the x-axis.\n",
    "    mVals = [] # Means for the y-axis\n",
    "    nonexistent = [] # Keeps track of non-existent files\n",
    "    missingS = []\n",
    "    # For each file, we take the point obtained from that file.\n",
    "    for file in files:\n",
    "        if getPoint(file, sStart, s) == \"nonexistent\":\n",
    "            nonexistent.append(file)\n",
    "        elif getPoint(file, sStart, s) == \"missing s\":\n",
    "            missingS.append(file)\n",
    "        else:\n",
    "            n, m = getPoint(file, sStart, s)\n",
    "            nVals.append(n)\n",
    "            mVals.append(m)\n",
    "    f = plt.figure(figsize = (8,8)) # Sets the plot size.\n",
    "    plt.scatter(x=nVals,y=mVals,s=50) # Creates the scatter plot.\n",
    "    if nonexistent:\n",
    "        print(\"The following files could not be located:\")\n",
    "        for file in nonexistent:\n",
    "            print(\"{}\\n\".format(file))\n",
    "    if missingS:\n",
    "        print(\"The following files have no rows with parameter s: {}.\".format(s))\n",
    "        for file in missingS:\n",
    "            print(\"{}\\n\".format(file))"
   ]
  },
  {
   "cell_type": "code",
   "execution_count": 24,
   "id": "ab951add",
   "metadata": {},
   "outputs": [],
   "source": [
    "# address = '/Users/alexanderneuschotz/Downloads/Circle'\n",
    "# files = getFiles(address, '0.0', '0.5', 500, 1000, 10)\n",
    "\n",
    "# createMaximaGraph(files, 0.0, 0.25)"
   ]
  }
 ],
 "metadata": {
  "kernelspec": {
   "display_name": "Python 3 (ipykernel)",
   "language": "python",
   "name": "python3"
  },
  "language_info": {
   "codemirror_mode": {
    "name": "ipython",
    "version": 3
   },
   "file_extension": ".py",
   "mimetype": "text/x-python",
   "name": "python",
   "nbconvert_exporter": "python",
   "pygments_lexer": "ipython3",
   "version": "3.9.12"
  }
 },
 "nbformat": 4,
 "nbformat_minor": 5
}

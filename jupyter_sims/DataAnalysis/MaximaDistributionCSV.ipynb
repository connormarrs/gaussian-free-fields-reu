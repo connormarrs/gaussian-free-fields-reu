{
 "cells": [
  {
   "cell_type": "code",
   "execution_count": null,
   "id": "76eafa6a",
   "metadata": {},
   "outputs": [],
   "source": [
    "# This program is designed to generate a maxima distribution graph from a folder of .csv files.\n",
    "\n",
    "# This cell is composed of the necessary imports and class formations for the program.\n",
    "\n",
    "# Used for math opperations:\n",
    "import numpy as np\n",
    "\n",
    "# For plotting data\n",
    "import matplotlib.pyplot as plt\n",
    "import seaborn as sns\n",
    "\n",
    "# Used to read files:\n",
    "import pandas as pd"
   ]
  },
  {
   "cell_type": "code",
   "execution_count": null,
   "id": "4b1fbc31",
   "metadata": {},
   "outputs": [],
   "source": [
    "'''This cell extracts the desired file name in a folder, given the computer address of the folder. We need \n",
    "to draw a distinction between Windows devices and Mac/Linux devices because of the formatting\n",
    "of addresses. When given the address of the folder, getFile returns the name of the file in the folder associated \n",
    "to a given n and s.'''\n",
    "\n",
    "def getFile(address: str, n: str, s: str) -> str:\n",
    "    name = address + '/' + n + '_' + s + '.csv'\n",
    "    return name\n",
    "\n",
    "\n",
    "def getFileWindows(address: str, n: str, s: str) -> str:\n",
    "    name = address + '\\\\' + n + '_' + s + '.csv'\n",
    "    return name"
   ]
  },
  {
   "cell_type": "code",
   "execution_count": 1,
   "id": "b24f049c",
   "metadata": {},
   "outputs": [],
   "source": [
    "'''This cell gets data for graphing. getData takes in the file name and returns a list 'maxData' of floats\n",
    "containing the maxima of trials, and an integer 'expectedMax', which is the average of those maxima.\n",
    "getDiff takes in the file name and returns a list of differences between the maxima and the expected maximum.'''\n",
    "\n",
    "def getData(file: str) -> tuple[list[list[float]], float] or bool:\n",
    "    colnames=['max', 'expectedMax'] \n",
    "    try:\n",
    "        data = pd.read_csv(file, names=colnames)\n",
    "    except:\n",
    "        return False\n",
    "    maxData = list(data['max'])\n",
    "    expectedMax = data['expectedMax'][0]\n",
    "    return maxData, expectedMax"
   ]
  },
  {
   "cell_type": "code",
   "execution_count": 4,
   "id": "fa9b9a33",
   "metadata": {},
   "outputs": [],
   "source": [
    "'''This cell graphs the maxima distribution. It takes in the file name and creates a list 'diff' of differences\n",
    "beteween the maxima and the expected maxima, which '''\n",
    "\n",
    "\n",
    "def graphMaximaDistribution(file: str, n: str, s: str) -> None or str:\n",
    "    if getData(file):\n",
    "        maxData, expectedMax = getData(file) # Gets the maxima data.\n",
    "        diff = [maxDatum - expectedMax for maxDatum in maxData] # Creates a list of deviation from the expected max.\n",
    "        fig = plt.figure(figsize =(10,10)) # Creates the figure.\n",
    "        ax1 = plt.subplot(111) # Creates the axes.\n",
    "        sns.histplot(data=diff, bins=int(np.floor(len(maxData)*.05))) # Plots diff as a histogram.\n",
    "        plt.show()\n",
    "    else:\n",
    "        print(\"There is no maxima distribution file associated to n = {0} and s = {1}.\".format(n, s))\n",
    "        "
   ]
  },
  {
   "cell_type": "code",
   "execution_count": null,
   "id": "e865cf08",
   "metadata": {},
   "outputs": [],
   "source": []
  }
 ],
 "metadata": {
  "kernelspec": {
   "display_name": "Python 3 (ipykernel)",
   "language": "python",
   "name": "python3"
  },
  "language_info": {
   "codemirror_mode": {
    "name": "ipython",
    "version": 3
   },
   "file_extension": ".py",
   "mimetype": "text/x-python",
   "name": "python",
   "nbconvert_exporter": "python",
   "pygments_lexer": "ipython3",
   "version": "3.9.12"
  }
 },
 "nbformat": 4,
 "nbformat_minor": 5
}

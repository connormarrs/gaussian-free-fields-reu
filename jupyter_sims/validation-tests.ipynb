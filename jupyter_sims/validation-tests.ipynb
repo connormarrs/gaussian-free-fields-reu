{
 "cells": [
  {
   "cell_type": "markdown",
   "id": "87c1687c",
   "metadata": {},
   "source": [
    "Section one verifies random number generation with IID Gaussians\n",
    "    Gumbal Distribution\n",
    "    root 2 ln(n)\n",
    "    \n",
    "Section two verifies the brownian bridge\n",
    "    Gumbal Distribution\n",
    "    Fixed S\n",
    "    "
   ]
  },
  {
   "cell_type": "markdown",
   "id": "f4616cd1",
   "metadata": {},
   "source": [
    "# Standard Gaussians"
   ]
  },
  {
   "cell_type": "markdown",
   "id": "7a4d9534",
   "metadata": {},
   "source": [
    "In order to verify the validity of the data we have generated we will show that it coroborates with known theoretical results. This section shows that our random number generation is unbiased using two methods. The first will graph the random variable defined as the maxima of standard normal process minus the expected value of that process. The second will show "
   ]
  },
  {
   "cell_type": "code",
   "execution_count": 2,
   "id": "4db9665a",
   "metadata": {},
   "outputs": [],
   "source": [
    "import numpy as np\n",
    "import pandas as pd\n",
    "\n",
    "# For plotting data\n",
    "from scipy.optimize import curve_fit\n",
    "import matplotlib.pyplot as plt\n",
    "import seaborn as sns\n",
    "%matplotlib inline"
   ]
  },
  {
   "cell_type": "markdown",
   "id": "9421936b",
   "metadata": {},
   "source": [
    "### Import Data"
   ]
  },
  {
   "cell_type": "code",
   "execution_count": 26,
   "id": "740f00a8",
   "metadata": {},
   "outputs": [],
   "source": [
    "File = r\"C:\\Users\\Ben\\Desktop\\REU Python\\DataVis\\Data\\Maxima Distribution\\SN\\python_random_number_data_n40000_trials20000.csv\"\n",
    "\n",
    "colnames=['max', 'exp'] \n",
    "data = pd.read_csv(File, names=colnames)\n",
    "\n",
    "MaxData = np.array(list(data['max']))\n",
    "# M = data['exp'][0]"
   ]
  },
  {
   "cell_type": "code",
   "execution_count": 5,
   "id": "2f25d089",
   "metadata": {},
   "outputs": [],
   "source": [
    "TestFile = r\"C:\\Users\\Ben\\Desktop\\REU Python\\DataVis\\Data\\Maxima Distribution\\SN\\python_random_number_data_n100_trials100.csv\"\n",
    "\n",
    "colnames=['max', 'exp']\n",
    "test_data = pd.read_csv(TestFile, names=colnames)\n",
    "\n",
    "Test_NUMPY_MaxData = np.array(list(data['max']))"
   ]
  },
  {
   "cell_type": "markdown",
   "id": "6aed98c9",
   "metadata": {},
   "source": [
    "### Regression"
   ]
  },
  {
   "cell_type": "code",
   "execution_count": 6,
   "id": "4b909199",
   "metadata": {},
   "outputs": [],
   "source": [
    "# parameters for the pdf of limiting distribution of EM_n\n",
    "n=10000\n",
    "\n",
    "def a(n):\n",
    "    return np.sqrt(2*np.log(n))\n",
    "\n",
    "def b(n):\n",
    "    return np.sqrt(2*np.log(n)) - 0.5*pow(2*np.log(n), -0.5)*(np.log(np.log(n))+np.log(4*np.pi))\n",
    "\n",
    "def pdf(x):\n",
    "    return np.exp(-x-np.exp(-x))"
   ]
  },
  {
   "cell_type": "code",
   "execution_count": 7,
   "id": "6fabc2fe-b0f8-4388-a2bf-b0b772211a1a",
   "metadata": {},
   "outputs": [],
   "source": [
    "# PYTHON CONTROL DATA USING PCG64 - the modern one\n",
    "from numpy.random import default_rng\n",
    "rng = default_rng()\n",
    "\n",
    "def computeMn_PCG64(nval):\n",
    "    vals=rng.standard_normal(nval)\n",
    "    return np.max(vals)\n",
    "\n",
    "def sampleMn_PCG64(nval, numTrials):\n",
    "    Mn_array = []\n",
    "    for j in range(numTrials):\n",
    "        Mn_array.append(computeMn_PCG64(nval))\n",
    "    return np.array(Mn_array)\n",
    "\n",
    "ControlMaxData_PCG64 = sampleMn_PCG64(n,20000)  "
   ]
  },
  {
   "cell_type": "code",
   "execution_count": 8,
   "id": "3ca7c50b-dd99-44f1-be48-403b854fc793",
   "metadata": {},
   "outputs": [],
   "source": [
    "# PYTHON CONTROL DATA USING MT19937 - the ancient one\n",
    "def sampleMn_MT19937(nval, numTrials):\n",
    "    Mn_array=[];\n",
    "    vals = np.random.standard_normal(size=(numTrials, nval))\n",
    "    for j in range(numTrials):\n",
    "        Mn_array.append(np.max(vals[j]))\n",
    "    return np.array(Mn_array)\n",
    "    \n",
    "ControlMaxData_MT19937 = sampleMn_MT19937(n,20000)"
   ]
  },
  {
   "cell_type": "code",
   "execution_count": 9,
   "id": "2677fd68",
   "metadata": {},
   "outputs": [
    {
     "name": "stdout",
     "output_type": "stream",
     "text": [
      "[3.75696167 4.05184744 4.51574031 ... 4.27784241 4.04970754 4.18137649]\n"
     ]
    }
   ],
   "source": [
    "# PYTHON CONTROL DATA USING NAIVE MT19937\n",
    "def sampleMn_MT19937_naive(nval, numTrials):\n",
    "    sample_array=np.zeros((numTrials, nval))\n",
    "    for index in range(nval):\n",
    "        # for each index, seed new random number generator and fill up\n",
    "        # array of trials using np.random.standard_normal()\n",
    "        np.random.seed(index)\n",
    "        for trial in range(numTrials):\n",
    "            sample_array[trial][index]=np.random.standard_normal()\n",
    "    \n",
    "    # compute the maximum\n",
    "    max_array=np.zeros(numTrials)\n",
    "    for trial in range(numTrials):\n",
    "        max_array[trial]=np.max(sample_array[trial])\n",
    "        \n",
    "    return max_array\n",
    "\n",
    "ControlMaxData_MT19937_Naive = sampleMn_MT19937_naive(n, 20000)\n",
    "print(ControlMaxData_MT19937_Naive)"
   ]
  },
  {
   "cell_type": "markdown",
   "id": "a14a8262",
   "metadata": {},
   "source": [
    "### Convergence in Distribution"
   ]
  },
  {
   "cell_type": "code",
   "execution_count": 10,
   "id": "cdb96f85",
   "metadata": {},
   "outputs": [],
   "source": [
    "X = np.arange(-5, 10,.01)\n",
    "\n",
    "# shift data and scale accordingly by a(n) and b(n)\n",
    "MaxDataScaled = a(n)*(MaxData-b(n))\n",
    "Test_NUMPY_MaxDataScaled = a(n)*(Test_NUMPY_MaxData-b(n))\n",
    "ControlMaxData_PCG64Scaled = a(n)*(ControlMaxData_PCG64-b(n))\n",
    "# ControlMaxData_MT19937Scaled = a(n)*(ControlMaxData_MT19937-b(n))\n",
    "# ControlMaxData_MT19937_Naive_Scaled = a(n)*(ControlMaxData_MT19937_Naive-b(n))"
   ]
  },
  {
   "cell_type": "code",
   "execution_count": 11,
   "id": "7f19a6c7-ce3e-4419-9819-23ee0b5ff629",
   "metadata": {},
   "outputs": [
    {
     "data": {
      "image/png": "[encoded data removed]",
      "text/plain": [
       "<Figure size 720x720 with 1 Axes>"
      ]
     },
     "metadata": {
      "needs_background": "light"
     },
     "output_type": "display_data"
    },
    {
     "ename": "NameError",
     "evalue": "name 'mu1' is not defined",
     "output_type": "error",
     "traceback": [
      "\u001b[1;31m---------------------------------------------------------------------------\u001b[0m",
      "\u001b[1;31mNameError\u001b[0m                                 Traceback (most recent call last)",
      "Input \u001b[1;32mIn [11]\u001b[0m, in \u001b[0;36m<cell line: 40>\u001b[1;34m()\u001b[0m\n\u001b[0;32m     37\u001b[0m plt\u001b[38;5;241m.\u001b[39mlegend(loc\u001b[38;5;241m=\u001b[39m\u001b[38;5;124m\"\u001b[39m\u001b[38;5;124mupper left\u001b[39m\u001b[38;5;124m\"\u001b[39m)\n\u001b[0;32m     38\u001b[0m plt\u001b[38;5;241m.\u001b[39mshow()\n\u001b[1;32m---> 40\u001b[0m \u001b[38;5;28mprint\u001b[39m([\u001b[43mmu1\u001b[49m, beta1, mu2, beta2])\n",
      "\u001b[1;31mNameError\u001b[0m: name 'mu1' is not defined"
     ]
    }
   ],
   "source": [
    "fig = plt.figure(figsize =(10,10))\n",
    "ax1 = plt.subplot(111)\n",
    "\n",
    "# ax1.plot(X, pdf(X), label=\"PDF of Gumbel Distribution\")\n",
    "\n",
    "(counts1, bins1) = np.histogram(MaxData, bins=500)\n",
    "(counts2, bins2) = np.histogram(ControlMaxData_PCG64, bins=500)\n",
    "# (counts3, bins3) = np.histogram(ControlMaxData_MT19937, bins=500)\n",
    "(counts4, bins4) = np.histogram(Test_NUMPY_MaxData, bins=500)\n",
    "plt.hist(bins2[:-1], bins2, weights=counts2, density=True, label=\"Python Max Data PCG64\")\n",
    "# plt.hist(bins3[:-1], bins3, weights=counts3, density=True, label=\"Python Max Data MT19937\")\n",
    "# plt.hist(bins1[:-1], bins1, weights=counts1, density=True, label=\"C++ Max Data\")\n",
    "plt.hist(bins4[:-1], bins4, weights=counts4, density=True, label=\"Test NUMPY Max Data\")\n",
    "\n",
    "# (counts5, bins5) = np.histogram(ControlMaxData_MT19937_Naive, bins=500)\n",
    "# plt.hist(bins5[:-1], bins5, weights=counts5, density=True, label=\"Python Max Data MT19937 Naive\")\n",
    "\n",
    "\n",
    "# beta1 = np.std(MaxData) * np.sqrt(6) / np.pi\n",
    "# mu1 = np.mean(MaxData) - 0.57721*beta1\n",
    "# plt.plot(bins1, (1/beta1)*np.exp(-(bins1 - mu1)/beta1)\n",
    "#          * np.exp(-np.exp(-(bins1 - mu1)/beta1)),\n",
    "#          linewidth=2, label=\"Fitted Gumbel PDF C++\")\n",
    "\n",
    "beta2 = np.std(ControlMaxData_PCG64) * np.sqrt(6) / np.pi\n",
    "mu2 = np.mean(ControlMaxData_PCG64) - 0.57721*beta2\n",
    "plt.plot(bins2, (1/beta2)*np.exp(-(bins2 - mu2)/beta2)\n",
    "         * np.exp(-np.exp(-(bins2 - mu2)/beta2)),\n",
    "         linewidth=2, label=\"Fitted Gumbel PDF Python PCG64\")\n",
    "\n",
    "# beta3 = np.std(ControlMaxData_MT19937) * np.sqrt(6) / np.pi\n",
    "# mu3 = np.mean(ControlMaxData_MT19937) - 0.57721*beta3\n",
    "# plt.plot(bins3, (1/beta3)*np.exp(-(bins3 - mu3)/beta3)\n",
    "#          * np.exp(-np.exp(-(bins3 - mu3)/beta3)),\n",
    "#          linewidth=2, label=\"Fitted Gumbel PDF Python MT19937\")\n",
    "\n",
    "plt.legend(loc=\"upper left\")\n",
    "plt.show()\n",
    "\n",
    "print([mu1, beta1, mu2, beta2])"
   ]
  },
  {
   "cell_type": "code",
   "execution_count": null,
   "id": "6e5a41be-6182-4cde-8693-43cc1cb32b55",
   "metadata": {},
   "outputs": [],
   "source": [
    "fig = plt.figure(figsize =(10,10))\n",
    "ax1 = plt.subplot(111)\n",
    "\n",
    "# Plot the Limit PDF of Gumbel and Histogram of Sample\n",
    "ax1.plot(X, pdf(X), label=\"PDF of Gumbel Distribution\")\n",
    "control_gumbel = np.random.gumbel(0, 1, 20000)\n",
    "count, bins = np.histogram(control_gumbel, 500)\n",
    "plt.hist(bins[:-1], bins, weights=count, density=True, label=\"Control Gumbel Histogram\")\n",
    "\n",
    "# Plot the Histogram and Fitted PDF of the Python Generated Data with PCG64\n",
    "(counts2, bins2) = np.histogram(ControlMaxData_PCG64Scaled, bins=500)\n",
    "plt.hist(bins2[:-1], bins2, weights=counts2, density=True, label=\"Python Max Data Scaled\")\n",
    "beta2 = np.std(ControlMaxData_PCG64Scaled) * np.sqrt(6) / np.pi\n",
    "mu2 = np.mean(ControlMaxData_PCG64Scaled) - 0.57721*beta2\n",
    "plt.plot(bins2, (1/beta2)*np.exp(-(bins2 - mu2)/beta2)\n",
    "         * np.exp(-np.exp(-(bins2 - mu2)/beta2)),\n",
    "         linewidth=2, label=\"Fitted Gumbel PDF Python\")\n",
    "\n",
    "# Plot the Histogram and Fitted PDF of the C++ Generated Data\n",
    "(counts3, bins3) = np.histogram(Test_NUMPY_MaxDataScaled, bins=500)\n",
    "plt.hist(bins3[:-1], bins3, weights=counts3, density=True, label=\"NUMPY Max Data Scaled\")\n",
    "beta3 = np.std(Test_NUMPY_MaxDataScaled) * np.sqrt(6) / np.pi\n",
    "mu3 = np.mean(Test_NUMPY_MaxDataScaled) - 0.57721*beta3\n",
    "plt.plot(bins3, (1/beta3)*np.exp(-(bins3 - mu3)/beta3)\n",
    "         * np.exp(-np.exp(-(bins3 - mu3)/beta3)),\n",
    "         linewidth=2, label=\"Fitted Gumbel NUMPY PDF\")\n",
    "\n",
    "# Plot the Histogram and Fitted PDF of the C++ Generated Data\n",
    "(counts1, bins1) = np.histogram(MaxDataScaled, bins=500)\n",
    "plt.hist(bins1[:-1], bins1, weights=counts1, density=True, label=\"C++ Max Data Scaled\")\n",
    "beta1 = np.std(MaxDataScaled) * np.sqrt(6) / np.pi\n",
    "mu1 = np.mean(MaxDataScaled) - 0.57721*beta1\n",
    "plt.plot(bins1, (1/beta1)*np.exp(-(bins1 - mu1)/beta1)\n",
    "         * np.exp(-np.exp(-(bins1 - mu1)/beta1)),\n",
    "         linewidth=2, label=\"Fitted Gumbel PDF C++\")\n",
    "\n",
    "plt.legend(loc=\"upper left\")\n",
    "plt.show()"
   ]
  },
  {
   "cell_type": "markdown",
   "id": "990539de",
   "metadata": {},
   "source": [
    "### Expected Value as n Increases\n",
    "We know from Leadbetter et. al. that if $(X_n)_{n\\in\\mathbb{N}}$ is a sequence of $\\mathcal{N}(0,1)$\n",
    "i.i.d variables and $M_n=\\max_{0\\leq j\\leq n}X_j$, then\n",
    "$$\n",
    "\\mathbb{E}M_n \\approx \\sqrt(2\\log(n)-\\frac{1}{2}(2\\log(n))^{-\\frac{1}{2}}(\\log\\log(n)+\\log(4\\pi))\n",
    "$$\n",
    "Using this, we can plot and compare the empirical value of $\\mathbb{E}M_n$ against the known\n",
    "theoretical value. As it turns out, the empirical data that we generated agrees with the theory."
   ]
  },
  {
   "cell_type": "code",
   "execution_count": 13,
   "id": "004b6fc2",
   "metadata": {},
   "outputs": [],
   "source": [
    "File = r'C:\\Users\\Ben\\Desktop\\REU Python\\DataVis\\Data\\Maxima Distribution\\SN\\gaussian_expected_maxima50000.csv'\n",
    "\n",
    "colnames=['n', 'exp'] \n",
    "data = pd.read_csv(File, names=colnames)\n",
    "\n",
    "EXP = np.array(data['exp'])\n",
    "N = np.array(data['n'])"
   ]
  },
  {
   "cell_type": "code",
   "execution_count": 14,
   "id": "f3cd5080-dd7a-4687-8bd4-6b59717bede1",
   "metadata": {},
   "outputs": [],
   "source": [
    "# Computing the Python EMn data\n",
    "def sample_EMn(numTrials):\n",
    "    EMn_array = []\n",
    "    for n in N:\n",
    "        EMn_array.append(\n",
    "            np.mean(sampleMn_PCG64(n, numTrials))\n",
    "        )\n",
    "    return EMn_array\n",
    "\n",
    "Control_Exp_Data_PCG64 = sample_EMn(2000)  "
   ]
  },
  {
   "cell_type": "code",
   "execution_count": 32,
   "id": "3b70c148",
   "metadata": {},
   "outputs": [],
   "source": [
    "root2 = []\n",
    "bn = []\n",
    "\n",
    "for n in range(len(N)):\n",
    "    root2.append(np.sqrt(2*np.log(N[n])))\n",
    "\n",
    "for n in range(len(N)):\n",
    "    bn.append(b(N[n]))"
   ]
  },
  {
   "cell_type": "code",
   "execution_count": 37,
   "id": "b1459b31",
   "metadata": {},
   "outputs": [
    {
     "data": {
      "image/png": "[encoded data removed]",
      "text/plain": [
       "<Figure size 720x720 with 1 Axes>"
      ]
     },
     "metadata": {
      "needs_background": "light"
     },
     "output_type": "display_data"
    }
   ],
   "source": [
    "fig = plt.figure(figsize =(10,10))\n",
    "#plt.scatter(N,Control_Exp_Data_PCG64, label=\"Python PCG64 Control\")\n",
    "plt.scatter(N, EXP, label=\"C++ MT19937 Data\")\n",
    "plt.scatter(N, np.sqrt(2*np.log(N)), label=\"Naive Approximation sqrt(2log(n))\")\n",
    "plt.scatter(N, b(N), label=\"Theoretical Asymptote given by b(n)\")\n",
    "plt.legend(loc=\"upper left\")\n",
    "plt.show()"
   ]
  },
  {
   "cell_type": "markdown",
   "id": "22e3dc5f",
   "metadata": {},
   "source": [
    "# Brownian Bridge"
   ]
  },
  {
   "cell_type": "code",
   "execution_count": 16,
   "id": "95d908ba",
   "metadata": {},
   "outputs": [],
   "source": [
    "File = r'C:\\Users\\Ben\\Desktop\\REU Python\\DataVis\\Data\\Maxima Distribution\\Circle\\2500_0.500000.csv'"
   ]
  },
  {
   "cell_type": "code",
   "execution_count": 17,
   "id": "613dbe7a",
   "metadata": {},
   "outputs": [],
   "source": [
    "colnames=['max', 'exp'] \n",
    "data = pd.read_csv(File, names=colnames)\n",
    "\n",
    "MaxData = list(data['max'])\n",
    "M = data['exp'][0]"
   ]
  },
  {
   "cell_type": "code",
   "execution_count": 22,
   "id": "76ffac4b",
   "metadata": {},
   "outputs": [],
   "source": [
    "Diff = []\n",
    "\n",
    "for x in range(len(MaxData)):\n",
    "    Diff.append(MaxData[x] - M)"
   ]
  },
  {
   "cell_type": "code",
   "execution_count": 23,
   "id": "81382130",
   "metadata": {},
   "outputs": [],
   "source": [
    "P = [x for x in range(0,3)]\n",
    "\n",
    "P = np.array(P)"
   ]
  },
  {
   "cell_type": "code",
   "execution_count": 24,
   "id": "ed7f5c14",
   "metadata": {},
   "outputs": [],
   "source": [
    "def BPDF(x):\n",
    "    return (4*x/np.pi)*np.exp((-2*x**2)/(np.pi))"
   ]
  },
  {
   "cell_type": "code",
   "execution_count": 25,
   "id": "b34a6048",
   "metadata": {},
   "outputs": [
    {
     "data": {
      "image/png": "[encoded data removed]",
      "text/plain": [
       "<Figure size 720x720 with 1 Axes>"
      ]
     },
     "metadata": {
      "needs_background": "light"
     },
     "output_type": "display_data"
    }
   ],
   "source": [
    "fig = plt.figure(figsize =(10,10))\n",
    "ax1 = plt.subplot(111)\n",
    "\n",
    "ax1.hist(x=MaxData, bins=int(np.floor(len(MaxData)*.05)))\n",
    "ax1.plot(P, BPDF(P))\n",
    "plt.show()"
   ]
  },
  {
   "cell_type": "code",
   "execution_count": 33,
   "id": "6d783078",
   "metadata": {},
   "outputs": [],
   "source": [
    "address = '/Users/connormarrs/Math/gaussian-free-fields-reu/data/Maxima'"
   ]
  },
  {
   "cell_type": "code",
   "execution_count": 34,
   "id": "d003a5e7",
   "metadata": {},
   "outputs": [],
   "source": [
    "# min N, Max N, step-size\n",
    "N_Data = ['500','1950','10']\n",
    "\n",
    "# min S, max S, step-size\n",
    "S_Data = ['0.0','0.5','.001']\n",
    "\n",
    "# creates a variable for the .format() function which call specified files in \\Maxima\n",
    "Folder = address + '/{}_s0.0-0.5.csv'"
   ]
  },
  {
   "cell_type": "code",
   "execution_count": 35,
   "id": "f76a8a99",
   "metadata": {},
   "outputs": [],
   "source": [
    "# For some reason trying to create mlist in the function above breaks things\n",
    "nlist = []\n",
    "slist = []\n",
    "mlist = []\n",
    "\n",
    "for n in range(int(N_Data[0]), int(N_Data[1])+int(N_Data[2]), int(N_Data[2])):\n",
    "    filenew = Folder.format(n)\n",
    "    \n",
    "    colnames=['n', 's','m'] \n",
    "    numbers = pd.read_csv(filenew, names=colnames)\n",
    "    \n",
    "    nlist.append(list(numbers['n']))\n",
    "    slist.append(list(numbers['s']))\n",
    "    mlist.append(list(numbers['m']))"
   ]
  },
  {
   "cell_type": "code",
   "execution_count": 36,
   "id": "e010d06c",
   "metadata": {},
   "outputs": [],
   "source": [
    "S = .5"
   ]
  },
  {
   "cell_type": "code",
   "execution_count": 37,
   "id": "a63ca93e",
   "metadata": {},
   "outputs": [],
   "source": [
    "# The index function tells us the index of our S value so we can ensure a proper zip with the future m values\n",
    "Index = slist[0].index(S)"
   ]
  },
  {
   "cell_type": "code",
   "execution_count": 38,
   "id": "577d73eb",
   "metadata": {},
   "outputs": [],
   "source": [
    "nFixed = []\n",
    "mFixed = []\n",
    "\n",
    "for s in range(len(slist)):\n",
    "    if S in slist[s]:\n",
    "        nFixed.append(nlist[s][Index])\n",
    "        mFixed.append(mlist[s][Index])\n",
    "        \n",
    "nFixed = np.array(nFixed)\n",
    "mFixed = np.array(mFixed)"
   ]
  },
  {
   "cell_type": "code",
   "execution_count": 39,
   "id": "d7e937aa",
   "metadata": {},
   "outputs": [],
   "source": [
    "def asymptotic(x):\n",
    "    return np.sqrt(np.pi/2)*np.pi/(2*np.sqrt(2))\n",
    "\n",
    "asymptotic_array = []\n",
    "\n",
    "for x in range(len(nFixed)):\n",
    "    asymptotic_array.append(asymptotic(x))"
   ]
  },
  {
   "cell_type": "code",
   "execution_count": 40,
   "id": "986daa14",
   "metadata": {},
   "outputs": [
    {
     "data": {
      "text/plain": [
       "[<matplotlib.lines.Line2D at 0x7fd4e0917280>]"
      ]
     },
     "execution_count": 40,
     "metadata": {},
     "output_type": "execute_result"
    },
    {
     "data": {
      "image/png": "[encoded data removed]",
      "text/plain": [
       "<Figure size 864x576 with 1 Axes>"
      ]
     },
     "metadata": {
      "needs_background": "light"
     },
     "output_type": "display_data"
    }
   ],
   "source": [
    "%matplotlib inline\n",
    "f = plt.figure(figsize = (12,8))\n",
    "ax1 = plt.subplot(111)\n",
    "ax1.set_ylim(0,int(np.ceil(max(mFixed)))+1)\n",
    "\n",
    "ax1.scatter(nFixed, mFixed, c='blue')\n",
    "ax1.plot(nFixed, asymptotic_array, c='green')\n"
   ]
  },
  {
   "cell_type": "code",
   "execution_count": null,
   "id": "442b0752",
   "metadata": {},
   "outputs": [],
   "source": []
  }
 ],
 "metadata": {
  "kernelspec": {
   "display_name": "Python 3 (ipykernel)",
   "language": "python",
   "name": "python3"
  },
  "language_info": {
   "codemirror_mode": {
    "name": "ipython",
    "version": 3
   },
   "file_extension": ".py",
   "mimetype": "text/x-python",
   "name": "python",
   "nbconvert_exporter": "python",
   "pygments_lexer": "ipython3",
   "version": "3.9.12"
  }
 },
 "nbformat": 4,
 "nbformat_minor": 5
}

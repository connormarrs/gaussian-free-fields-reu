{
 "cells": [
  {
   "cell_type": "code",
   "execution_count": 16,
   "id": "72f5f873",
   "metadata": {},
   "outputs": [],
   "source": [
    "'''This program is designed to create a 3d graph relating s and n to E[M_n] from a .json file. of the type\n",
    "where s is not fixed, as in stemplate.json. It is not restricted to the circle alone, but is general.'''\n",
    "\n",
    "# This cell is composed of the necessary imports and class formations for the program.\n",
    "\n",
    "# Used for plotting data:\n",
    "import matplotlib.pyplot as plt\n",
    "\n",
    "# Used to read outside files:\n",
    "from msgspec.json import decode\n",
    "from msgspec import Struct\n",
    "from typing import Dict\n",
    "\n",
    "# The following classes allows for specifying a path for decoidng the .json file in get_data below:\n",
    "\n",
    "class Max(Struct): \n",
    "    meanOfMaxima: float # Assigns to Max an attribute 'meanOfMaxima' of type float.\n",
    "\n",
    "class Sval(Struct): \n",
    "    s: Dict[str, Max] # Assigns to Sval an attribute 's' of type Dict from str to Max.\n",
    "\n",
    "class Info(Struct):\n",
    "    n: Dict[str, Sval] # Assigns to Info an attribute 'n' of type Dict from str to Sval.\n",
    "\n",
    "class Access(Struct):\n",
    "    info: Info # Assigns to Access an attribute 'info' of type Info."
   ]
  },
  {
   "cell_type": "code",
   "execution_count": 17,
   "id": "0691ea5e",
   "metadata": {},
   "outputs": [],
   "source": [
    "'''This cell reads and decodes a .json file to efficiently access its information. \n",
    "getData takes in a .json file of the type where s is not fixed, as in stemplate.json and only \n",
    "decodes the part of the file whose class is Access. Access has an attribute called \n",
    "'info' of type Info, which has an attribute 'n' that is a dictionary whose keys are strings, \n",
    "specifically the available nvalues, and whose values are of Sval, and Sval has an attribute\n",
    "'s' that is a dictionary whose keys are strings, specifically the available svalues, and \n",
    "whose values are of type Max, which has the lone attribute meanOfMaxima of type float.\n",
    "This method allows only the paths we want: info > n > str(nval) > s > str(sval) > meanOfMaxima > mean.'''\n",
    "\n",
    "def getData(file: str) -> Access: # getData accepts .json files where s is not fixed.\n",
    "    with open(file, 'rb') as f:\n",
    "         return decode(f.read(), type = Access)\n",
    "        \n",
    "'''createSbynGraph takes in one argument: data = get_data(file), and collects each pair (n, s, mean)\n",
    "in a given path into lists of nvals, svals, and mvals that can be zipped to prroduce a 3D-graph with \n",
    "n on the x-axis, s on the y-axis, and the associated meanOfMaxima on the z-axis.''''' \n",
    "        \n",
    "\n",
    "def createSByNGraph(data: Access) -> None:\n",
    "    nvals = [] # To be plotted on the x-axis.\n",
    "    svals = [] # To be plotted on the y-axis.\n",
    "    mvals = [] # To be plotted on the z-axis\n",
    "    for n_key in data.info.n.keys(): # This path will iterate over all values of n.\n",
    "        for s_key in data.info.n[n_key].s.keys(): # This path will iterate over all values of s under n_key.\n",
    "            mean = data.info.n[n_key].s[s_key].meanOfMaxima # This path will give the mean for the given n and s.\n",
    "            # Appends the data to the val lists, ensuring that nvals are ints and svals are floats, not strings:\n",
    "            nvals.append(int(n_key)) \n",
    "            svals.append(float(s_key))\n",
    "            mvals.append(mean)\n",
    "    ax = plt.axes(projection = '3d') # Creates the 3D-plot axes.\n",
    "    # Labels the axes accordingly:\n",
    "    ax.set_xlabel('n')\n",
    "    ax.set_ylabel('s')\n",
    "    ax.set_zlabel('E[Mn]')\n",
    "    # Creates the scatter plot with colors according to the mvals, cmap 'coolwarm', and opacity alpha = 1:\n",
    "    ax.scatter3D(nvals, svals, mvals, c = mvals, cmap='coolwarm', alpha=1)"
   ]
  }
 ],
 "metadata": {
  "kernelspec": {
   "display_name": "Python 3 (ipykernel)",
   "language": "python",
   "name": "python3"
  },
  "language_info": {
   "codemirror_mode": {
    "name": "ipython",
    "version": 3
   },
   "file_extension": ".py",
   "mimetype": "text/x-python",
   "name": "python",
   "nbconvert_exporter": "python",
   "pygments_lexer": "ipython3",
   "version": "3.9.12"
  }
 },
 "nbformat": 4,
 "nbformat_minor": 5
}

{
 "cells": [
  {
   "cell_type": "code",
   "execution_count": 18,
   "id": "81eb5a91",
   "metadata": {},
   "outputs": [],
   "source": [
    "# This module is designed to produce all of the visuals for data colelcted on S1.\n",
    "\n",
    "# For .json files:\n",
    "from ipynb.fs.full.DataVisS1Functional import get_data, create_heat_map, create_maxima_graph\n",
    "import ipynb.fs.full.MaximaGraphJson as jsonmaximaS1\n",
    "from typing import Optional as Opt\n",
    "\n",
    "# For .csv files:\n",
    "import ipynb.fs.full.MaximaGraphCSV as csvmaximaS1\n",
    "\n",
    "\n",
    "'''datavisS1 takes in two required arguments: a file with a .json file with a fixed s value, and an integer \n",
    "value 't' that acts as the default trial number for all four quartiles. If you would like to specify other \n",
    "int for any or all of the trial numbers, that value will be used by declaring ti = desired_number. Depending \n",
    "on the file type, it will run a different program to produce both a heat map and a maxima graph for fixed s.''' \n",
    "\n",
    "\n",
    "def datavisS1(file: str, t: int, \n",
    "              t1: Opt[int] = None, t2: Opt[int] = None, t3: Opt[int] = None, t4: Opt[int] = None) -> None:\n",
    "    # Ensures that everything is of the right type:\n",
    "    if type(file) != str :\n",
    "        raise ValueError(\"file must be a string.\")\n",
    "    if type(t) != int:\n",
    "        raise ValueError(\"t must be an integer.\")\n",
    "    for ti in [t1, t2, t3, t4]:\n",
    "        if ti != None and type(ti) != int:\n",
    "            raise ValueError(\"ti must be None or an integer.\")\n",
    "    if file[-4:] != 'json':\n",
    "        raise ValueError(\"file must be .json.\")\n",
    "    data = get_data(file)\n",
    "    # Creates a list of all 'n' values from json file\n",
    "    nvalsSTR = list(data.info.n.keys())\n",
    "    nvals = [int(val) for val in nvalsSTR]\n",
    "    nvalsORD = sorted(nvals)\n",
    "    # Creates the heat map and the maxima graph:\n",
    "    create_heat_map(data, nvals, t, t1 = None, t2 = None, t3 = None, t4 = None)\n",
    "    create_maxima_graph(data, nvals, nvalsSTR, nvalsORD)\n",
    "    \n",
    "\n",
    "'''sbyn_graph takes in a file with variable s value that can either be a .json file or a .csv file.\n",
    "It produces a 3D maximum graph with variable s that creates a surface.'''\n",
    "\n",
    "def sbyn_graph(file: str) -> None:\n",
    "    if file[-4:] == 'json':\n",
    "        data = jsonmaximaS1.get_data(file)\n",
    "        jsonmaximaS1.create_sbyn_graph(data)\n",
    "    elif file[-3:] == 'csv':\n",
    "        csvmaximaS1.create_sbyn_graph(file)\n",
    "    else:\n",
    "        raise ValueError(\"Input file must be .json or .csv.\")"
   ]
  }
 ],
 "metadata": {
  "kernelspec": {
   "display_name": "Python 3 (ipykernel)",
   "language": "python",
   "name": "python3"
  },
  "language_info": {
   "codemirror_mode": {
    "name": "ipython",
    "version": 3
   },
   "file_extension": ".py",
   "mimetype": "text/x-python",
   "name": "python",
   "nbconvert_exporter": "python",
   "pygments_lexer": "ipython3",
   "version": "3.9.12"
  }
 },
 "nbformat": 4,
 "nbformat_minor": 5
}

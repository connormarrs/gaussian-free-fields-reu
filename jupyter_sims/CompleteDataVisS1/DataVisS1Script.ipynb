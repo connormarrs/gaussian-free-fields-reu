{
 "cells": [
  {
   "cell_type": "code",
   "execution_count": 1,
   "id": "81611621",
   "metadata": {},
   "outputs": [
    {
     "data": {
      "text/plain": [
       "\"datavisS1 takes in two required arguments: a file with a .json file with a fixed s value, and an integer \\nvalue 't' that acts as the default trial number for all four quartiles. If you would like to specify other \\nint for any or all of the trial numbers, that value will be used by declaring ti = desired_number. Depending \\non the file type, it will run a different program to produce both a heat map and a maxima graph for fixed s.\""
      ]
     },
     "execution_count": 1,
     "metadata": {},
     "output_type": "execute_result"
    }
   ],
   "source": [
    "from ipynb.fs.full.FullDataS1 import datavisS1, sbyn_graph\n",
    "\n",
    "'''datavisS1 takes in two required arguments: a file with a .json file with a fixed s value, and an integer \n",
    "value 't' that acts as the default trial number for all four quartiles. If you would like to specify other \n",
    "int for any or all of the trial numbers, that value will be used by declaring ti = desired_number. Depending \n",
    "on the file type, it will run a different program to produce both a heat map and a maxima graph for fixed s.''' \n",
    "\n",
    "# datavisS1('test1.json', 2, t1 = None, t2 = None, t3 = None, t4 = None)"
   ]
  },
  {
   "cell_type": "code",
   "execution_count": 3,
   "id": "7e24e238",
   "metadata": {},
   "outputs": [
    {
     "data": {
      "text/plain": [
       "'sbyn_graph takes in a file with variable s value that can either be a .json file or a .csv file.\\nIt produces a 3D maximum graph with variable s that creates a surface.'"
      ]
     },
     "execution_count": 3,
     "metadata": {},
     "output_type": "execute_result"
    }
   ],
   "source": [
    "'''sbyn_graph takes in a file with variable s value that can either be a .json file or a .csv file.\n",
    "It produces a 3D maximum graph with variable s that creates a surface.'''\n",
    "\n",
    "# sbyn_graph('500_s0.0-0.5.csv')"
   ]
  },
  {
   "cell_type": "code",
   "execution_count": null,
   "id": "a61e7516",
   "metadata": {},
   "outputs": [],
   "source": []
  }
 ],
 "metadata": {
  "kernelspec": {
   "display_name": "Python 3 (ipykernel)",
   "language": "python",
   "name": "python3"
  },
  "language_info": {
   "codemirror_mode": {
    "name": "ipython",
    "version": 3
   },
   "file_extension": ".py",
   "mimetype": "text/x-python",
   "name": "python",
   "nbconvert_exporter": "python",
   "pygments_lexer": "ipython3",
   "version": "3.9.12"
  }
 },
 "nbformat": 4,
 "nbformat_minor": 5
}

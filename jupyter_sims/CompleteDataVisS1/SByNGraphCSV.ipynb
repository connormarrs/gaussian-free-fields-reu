{
 "cells": [
  {
   "cell_type": "code",
   "execution_count": 6,
   "id": "7e0c1ca5",
   "metadata": {},
   "outputs": [],
   "source": [
    "'''This program is designed to create a 3d graph relating s and n to E[M_n] from a .csv file. of the type\n",
    "where s is not fixed, as in 500-900_s0.0-0.5.csv. It is not restricted to S1, but is general.'''\n",
    "\n",
    "import pandas as pd\n",
    "import matplotlib.pyplot as plt\n",
    "\n",
    "'''createSByNGraph takes in a .csv file where s is not fixed, akin to 500-900_s0.0-0.5.csv, and produces a \n",
    "3D-graph with n on the x-axis, s on the y-axis, and the associated meanOfMaxima on the z-axis.'''\n",
    "\n",
    "def createSByNGraph(file: str) -> None:\n",
    "    colnames = ['n_value', 's_value', 'expected_mean'] # Names the columns so they can be referrenced.\n",
    "    df = pd.read_csv(file, names = colnames) # Reads the file and saves it to df with the above column names.\n",
    "    # Obtains the columns as objects:\n",
    "    n_values, s_values, mean_values = [df.n_value, df.s_value, df.expected_mean]\n",
    "    '''We now collect the x-values, the y-values, and the z-values. So that these lists of values zip\n",
    "    properly, we need the i'th entry in each list to lie in the same column of the .csv file.\n",
    "    This can easily be achieved by using the same index when we gather the values. We start at 1,\n",
    "    since the first row is titles.'''\n",
    "    nvals = [int(n_values[i]) for i in range(1, len(df))]\n",
    "    svals = [float(s_values[i]) for i in range(1, len(df))]\n",
    "    mvals = [float(mean_values[i]) for i in range(1, len(df))]\n",
    "    ax = plt.axes(projection = '3d') # Creates the 3D-plot axes.\n",
    "    # Labels the axes accordingly:\n",
    "    ax.set_xlabel('n')\n",
    "    ax.set_ylabel('s')\n",
    "    ax.set_zlabel('E[Mn]')\n",
    "    # Creates the scatter plot with colors according to the mvals, cmap 'coolwarm', and opacity alpha = 1:\n",
    "    ax.scatter3D(nvals, svals, mvals, c = mvals, cmap='coolwarm', alpha=1)"
   ]
  }
 ],
 "metadata": {
  "kernelspec": {
   "display_name": "Python 3 (ipykernel)",
   "language": "python",
   "name": "python3"
  },
  "language_info": {
   "codemirror_mode": {
    "name": "ipython",
    "version": 3
   },
   "file_extension": ".py",
   "mimetype": "text/x-python",
   "name": "python",
   "nbconvert_exporter": "python",
   "pygments_lexer": "ipython3",
   "version": "3.9.12"
  }
 },
 "nbformat": 4,
 "nbformat_minor": 5
}

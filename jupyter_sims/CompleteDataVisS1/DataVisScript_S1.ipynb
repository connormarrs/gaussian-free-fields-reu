{
 "cells": [
  {
   "cell_type": "code",
   "execution_count": 10,
   "id": "81611621",
   "metadata": {},
   "outputs": [],
   "source": [
    "%matplotlib inline\n",
    "\n",
    "from ipynb.fs.full.FullData_S1 import dataVis3D_S1, dataVis2D_S1, sByNGraph"
   ]
  },
  {
   "cell_type": "code",
   "execution_count": 11,
   "id": "cd4f9175",
   "metadata": {},
   "outputs": [
    {
     "data": {
      "text/plain": [
       "\"dataVis3D_S1 takes in two required arguments: a file that can either be a .json file with a fixed s value,\\nor a .csv value of the form '1000_0.500000.csv', and an integer \\nvalue 't' that acts as the default trial number for all four quartiles. For a .csv file, there is only\\none trial, so t affects nothing, and the output will just be a heat map, since a one-point maxima graph is\\nnot interesting. For a .json file, you can specify other integers for any or all of the trial \\nnumbers, that value will be used by declaring ti = desired number. The output for a .json file will be a\\nheat map and a maxima graph.\""
      ]
     },
     "execution_count": 11,
     "metadata": {},
     "output_type": "execute_result"
    }
   ],
   "source": [
    "'''dataVis3D_S1 takes in two required arguments: a file that can either be a .json file with a fixed s value,\n",
    "or a .csv value of the form '1000_0.500000.csv', and an integer \n",
    "value 't' that acts as the default trial number for all four quartiles. For a .csv file, there is only\n",
    "one trial, so t affects nothing, and the output will just be a heat map, since a one-point maxima graph is\n",
    "not interesting. For a .json file, you can specify other integers for any or all of the trial \n",
    "numbers, that value will be used by declaring ti = desired number. The output for a .json file will be a\n",
    "heat map and a maxima graph.'''\n",
    "\n",
    "# dataVis3D_S1('test1.json', t = 3, t1 = None, t2 = None, t3 = None, t4 = None)\n",
    "\n",
    "# svals = [0.000000, 0.225000, 0.250000, 0.275000, 0.500000] \n",
    "\n",
    "# dataVis3D_S1('10-30000_s0.0-0.5.csv', sVals = svals)"
   ]
  },
  {
   "cell_type": "code",
   "execution_count": 13,
   "id": "1bca1b25",
   "metadata": {},
   "outputs": [
    {
     "data": {
      "text/plain": [
       "\"This cell creates a 2D graph, whose x-axis is n values, and whose y-axis is E[max^n_s], given a .csv file \\nof the form '500-900_s0.0-0.5.csv' and a specified parameter 's'. One can also specify the y-range with ymin \\nand ymax.\""
      ]
     },
     "execution_count": 13,
     "metadata": {},
     "output_type": "execute_result"
    }
   ],
   "source": [
    "'''This cell creates a 2D graph, whose x-axis is n values, and whose y-axis is E[max^n_s], given a .csv file \n",
    "of the form '500-900_s0.0-0.5.csv' and a specified parameter 's'. One can also specify the y-range with ymin \n",
    "and ymax.'''\n",
    "\n",
    "# dataVis2D_S1('500-900_s0.0-0.5.csv', s=.5)"
   ]
  },
  {
   "cell_type": "code",
   "execution_count": 1,
   "id": "7e24e238",
   "metadata": {},
   "outputs": [
    {
     "data": {
      "text/plain": [
       "'sByNGraph takes in a file with variable s value that can either be a .json file or a .csv file.\\nIt produces a 3D sbyn graph with variable s that creates a surface.'"
      ]
     },
     "execution_count": 1,
     "metadata": {},
     "output_type": "execute_result"
    }
   ],
   "source": [
    "%matplotlib notebook\n",
    "\n",
    "'''sByNGraph takes in a file with variable s value that can either be a .json file or a .csv file.\n",
    "It produces a 3D sbyn graph with variable s that creates a surface.'''\n",
    "\n",
    "# sByNGraph('500-900_s0.0-0.5.csv')"
   ]
  },
  {
   "cell_type": "code",
   "execution_count": null,
   "id": "9781fa46",
   "metadata": {},
   "outputs": [],
   "source": []
  }
 ],
 "metadata": {
  "kernelspec": {
   "display_name": "Python 3 (ipykernel)",
   "language": "python",
   "name": "python3"
  },
  "language_info": {
   "codemirror_mode": {
    "name": "ipython",
    "version": 3
   },
   "file_extension": ".py",
   "mimetype": "text/x-python",
   "name": "python",
   "nbconvert_exporter": "python",
   "pygments_lexer": "ipython3",
   "version": "3.9.12"
  }
 },
 "nbformat": 4,
 "nbformat_minor": 5
}

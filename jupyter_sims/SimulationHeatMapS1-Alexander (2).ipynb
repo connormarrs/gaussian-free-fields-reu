{
 "cells": [
  {
   "cell_type": "code",
   "execution_count": 106,
   "id": "d0f573ed",
   "metadata": {},
   "outputs": [],
   "source": [
    "%matplotlib inline\n",
    "import matplotlib.pyplot as plt\n",
    "import seaborn as sbn\n",
    "import numpy as np\n",
    "import json\n",
    "\n",
    "# This program is designed to create a heat map for S1 from a json file.\n",
    "    \n",
    "# Gets the t'th trial corresponding to a given number n of points:\n",
    "def get_data(n, t, file): # t = trial number\n",
    "    f = open(file)\n",
    "    data = json.load(f)\n",
    "    return data['info']['n'][str(n)]['trialData'][t]"
   ]
  },
  {
   "cell_type": "code",
   "execution_count": 115,
   "id": "92a26c80",
   "metadata": {},
   "outputs": [],
   "source": [
    "# Creates the heat map:\n",
    "\n",
    "def create_heat_map(n, t, file):\n",
    "    # Conversts the t'th trial into an array:\n",
    "    matrix = np.array([[val] for val in get_data(n, t, file)]) \n",
    "    print(matrix)\n",
    "    # The transpose ensures that we go vertically up when we fix x.\n",
    "    ax = sbn.heatmap(np.transpose(matrix), cmap = 'coolwarm', yticklabels=False)\n",
    "    # Inverting the y-axis makes the axes typically Cartesian.\n",
    "    ax.invert_yaxis()"
   ]
  },
  {
   "cell_type": "code",
   "execution_count": 116,
   "id": "3f171a2a",
   "metadata": {},
   "outputs": [
    {
     "name": "stdout",
     "output_type": "stream",
     "text": [
      "[[-1.43678 ]\n",
      " [ 0.522057]\n",
      " [ 0.741563]\n",
      " [-0.616475]\n",
      " [-1.84143 ]]\n"
     ]
    },
    {
     "data": {
      "image/png": "[encoded data removed]",
      "text/plain": [
       "<Figure size 432x288 with 2 Axes>"
      ]
     },
     "metadata": {
      "needs_background": "light"
     },
     "output_type": "display_data"
    }
   ],
   "source": [
    "create_heat_map(5, 3, 'template.json')"
   ]
  },
  {
   "cell_type": "code",
   "execution_count": null,
   "id": "35589d69",
   "metadata": {},
   "outputs": [],
   "source": []
  }
 ],
 "metadata": {
  "kernelspec": {
   "display_name": "Python 3 (ipykernel)",
   "language": "python",
   "name": "python3"
  },
  "language_info": {
   "codemirror_mode": {
    "name": "ipython",
    "version": 3
   },
   "file_extension": ".py",
   "mimetype": "text/x-python",
   "name": "python",
   "nbconvert_exporter": "python",
   "pygments_lexer": "ipython3",
   "version": "3.9.12"
  }
 },
 "nbformat": 4,
 "nbformat_minor": 5
}

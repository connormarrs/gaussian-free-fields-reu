{
 "cells": [
  {
   "cell_type": "code",
   "execution_count": 2,
   "id": "60ad8b2b",
   "metadata": {},
   "outputs": [],
   "source": [
    "%matplotlib inline\n",
    "import numpy as np\n",
    "import math\n",
    "import matplotlib.pyplot as plt\n",
    "import pandas as pd\n",
    "from scipy.optimize import curve_fit\n",
    "import seaborn as sns\n",
    "import numpy.random as nprnd\n",
    "import json"
   ]
  },
  {
   "cell_type": "code",
   "execution_count": 13,
   "id": "8e295629",
   "metadata": {},
   "outputs": [],
   "source": [
    "#Takes in the json file and assigns it the name 'data'\n",
    "with open('template.json') as f:\n",
    "  data = json.load(f)"
   ]
  },
  {
   "cell_type": "code",
   "execution_count": null,
   "id": "24553024",
   "metadata": {},
   "outputs": [],
   "source": []
  },
  {
   "cell_type": "code",
   "execution_count": 100,
   "id": "2b602958",
   "metadata": {},
   "outputs": [
    {
     "name": "stdout",
     "output_type": "stream",
     "text": [
      "Input n Value: 5\n"
     ]
    }
   ],
   "source": [
    "#Takes in an n value from the user\n",
    "n = int(input(\"Input n Value: \"))"
   ]
  },
  {
   "cell_type": "code",
   "execution_count": 101,
   "id": "99049129",
   "metadata": {},
   "outputs": [],
   "source": [
    "#Generates the theta values from the users n value\n",
    "theta = []\n",
    "line = []\n",
    "for k in range(0,n):\n",
    "    theta.append((2*np.pi*k)/n)\n",
    "    line.append(0)"
   ]
  },
  {
   "cell_type": "code",
   "execution_count": 102,
   "id": "edf4d116",
   "metadata": {},
   "outputs": [],
   "source": [
    "#Turns our n value into a string name so we can access it while plotting data\n",
    "m = str(n)\n",
    "\n",
    "#We define i to be zero so we can quickly plot a number of graphs with different trial data\n",
    "i = 0"
   ]
  },
  {
   "cell_type": "code",
   "execution_count": 105,
   "id": "9894acd8",
   "metadata": {},
   "outputs": [
    {
     "data": {
      "image/png": "[encoded data removed]",
      "text/plain": [
       "<Figure size 432x288 with 1 Axes>"
      ]
     },
     "metadata": {
      "needs_background": "light"
     },
     "output_type": "display_data"
    }
   ],
   "source": [
    "#Plots the data of a circle using both hight and color to represent our data\n",
    "#x = theta values so the graph is a streched out circle\n",
    "#y = the trial data value from json file\n",
    "#c = the trial data value from json file\n",
    "plt.scatter(x=theta, y=data['Info']['n'][m]['trialData'][i], c = data['Info']['n'][m]['trialData'][i])\n",
    "i = i+1"
   ]
  },
  {
   "cell_type": "code",
   "execution_count": null,
   "id": "6d231863",
   "metadata": {},
   "outputs": [],
   "source": []
  },
  {
   "cell_type": "code",
   "execution_count": null,
   "id": "675bcd17",
   "metadata": {},
   "outputs": [],
   "source": []
  }
 ],
 "metadata": {
  "kernelspec": {
   "display_name": "Python 3 (ipykernel)",
   "language": "python",
   "name": "python3"
  },
  "language_info": {
   "codemirror_mode": {
    "name": "ipython",
    "version": 3
   },
   "file_extension": ".py",
   "mimetype": "text/x-python",
   "name": "python",
   "nbconvert_exporter": "python",
   "pygments_lexer": "ipython3",
   "version": "3.9.12"
  }
 },
 "nbformat": 4,
 "nbformat_minor": 5
}

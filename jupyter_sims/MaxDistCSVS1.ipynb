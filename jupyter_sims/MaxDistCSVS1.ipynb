{
 "cells": [
  {
   "cell_type": "code",
   "execution_count": 26,
   "id": "2a795e82",
   "metadata": {},
   "outputs": [],
   "source": [
    "# For Math opperations\n",
    "import numpy as np\n",
    "\n",
    "# For reading data from outside files\n",
    "import pandas as pd\n",
    "\n",
    "# For plotting data\n",
    "from scipy.optimize import curve_fit\n",
    "import matplotlib.pyplot as plt\n",
    "import seaborn as sns\n",
    "%matplotlib inline"
   ]
  },
  {
   "cell_type": "markdown",
   "id": "2ceb410e",
   "metadata": {},
   "source": [
    "## User Input File"
   ]
  },
  {
   "cell_type": "code",
   "execution_count": 27,
   "id": "98578927",
   "metadata": {},
   "outputs": [
    {
     "name": "stdout",
     "output_type": "stream",
     "text": [
      "Paste Folder Address Here: C:\\Users\\Ben\\Desktop\\REU Python\\DataVis\\Data\\MaxDist\n"
     ]
    }
   ],
   "source": [
    "# address should look similar to the following: C:\\Users\\Ben\\Desktop\\REU Python\\DataVis\\Data\\MaxDist\n",
    "# The last folder name should be \\MaxDist\n",
    "\n",
    "#address = input(\"Paste Folder Address Here: \")"
   ]
  },
  {
   "cell_type": "code",
   "execution_count": 28,
   "id": "4bf90918",
   "metadata": {},
   "outputs": [
    {
     "name": "stdout",
     "output_type": "stream",
     "text": [
      "Input n value: 500\n",
      "Input s value: .25\n"
     ]
    }
   ],
   "source": [
    "N = input(\"Input n value: \")\n",
    "S = input(\"Input s value: \")"
   ]
  },
  {
   "cell_type": "code",
   "execution_count": 29,
   "id": "ff7285b2",
   "metadata": {},
   "outputs": [],
   "source": [
    "# creates a variable for the .format() function which call specified files in \\Maxima\n",
    "File = address + '\\\\' + N + ',' + S + '.csv'"
   ]
  },
  {
   "cell_type": "markdown",
   "id": "5c10aff9",
   "metadata": {},
   "source": [
    "## Get Data for Graphing"
   ]
  },
  {
   "cell_type": "code",
   "execution_count": 30,
   "id": "d60d9229",
   "metadata": {},
   "outputs": [],
   "source": [
    "colnames=['max', 'exp'] \n",
    "data = pd.read_csv(File, names=colnames)\n",
    "\n",
    "MaxData = list(data['max'])\n",
    "M = data['exp'][0]"
   ]
  },
  {
   "cell_type": "code",
   "execution_count": 31,
   "id": "48d894d3",
   "metadata": {},
   "outputs": [],
   "source": [
    "Diff = []\n",
    "\n",
    "for x in range(len(MaxData)):\n",
    "    Diff.append(MaxData[x] - M)"
   ]
  },
  {
   "cell_type": "markdown",
   "id": "678d1c8c",
   "metadata": {},
   "source": [
    "## Graphing"
   ]
  },
  {
   "cell_type": "code",
   "execution_count": 33,
   "id": "321879be",
   "metadata": {},
   "outputs": [
    {
     "data": {
      "text/plain": [
       "<AxesSubplot:ylabel='Count'>"
      ]
     },
     "execution_count": 33,
     "metadata": {},
     "output_type": "execute_result"
    },
    {
     "data": {
      "image/png": "[encoded data removed]",
      "text/plain": [
       "<Figure size 432x288 with 1 Axes>"
      ]
     },
     "metadata": {
      "needs_background": "light"
     },
     "output_type": "display_data"
    }
   ],
   "source": [
    "sns.histplot(data=Diff, bins=9)"
   ]
  },
  {
   "cell_type": "code",
   "execution_count": null,
   "id": "482590ff",
   "metadata": {},
   "outputs": [],
   "source": []
  }
 ],
 "metadata": {
  "kernelspec": {
   "display_name": "Python 3 (ipykernel)",
   "language": "python",
   "name": "python3"
  },
  "language_info": {
   "codemirror_mode": {
    "name": "ipython",
    "version": 3
   },
   "file_extension": ".py",
   "mimetype": "text/x-python",
   "name": "python",
   "nbconvert_exporter": "python",
   "pygments_lexer": "ipython3",
   "version": "3.9.12"
  }
 },
 "nbformat": 4,
 "nbformat_minor": 5
}

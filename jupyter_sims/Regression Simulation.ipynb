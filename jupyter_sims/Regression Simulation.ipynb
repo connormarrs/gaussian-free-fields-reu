{
 "cells": [
  {
   "cell_type": "code",
   "execution_count": 87,
   "id": "a09bc4dd",
   "metadata": {},
   "outputs": [],
   "source": [
    "import numpy as np",
    "import pandas as pd\n",
    "import matplotlib.pyplot as plt\n",
    "from scipy.optimize import curve_fit"
   ]
  },
  {
   "cell_type": "code",
   "execution_count": null,
   "id": "46ad6f80",
   "metadata": {},
   "outputs": [],
   "source": []
  },
  {
   "cell_type": "code",
   "execution_count": 88,
   "id": "62a2ef28",
   "metadata": {},
   "outputs": [],
   "source": [
    "#Defining Our Data Files\n",
    "#Use a .csv file with n values in column 1 and expected values in column 2\n",
    "\n",
    "colnames=['n', 'E'] \n",
    "exp = pd.read_csv('mt1test.csv', names=colnames)"
   ]
  },
  {
   "cell_type": "code",
   "execution_count": null,
   "id": "857fbc8a",
   "metadata": {},
   "outputs": [],
   "source": []
  },
  {
   "cell_type": "code",
   "execution_count": 89,
   "id": "8429e9aa",
   "metadata": {},
   "outputs": [],
   "source": [
    "#The Function I want the data to fit\n",
    "#C * n^a * ln(n)^b + D\n",
    "def func(x, a, b, c, d):\n",
    "    return c*((x**a)*(np.log(x)**b))+d"
   ]
  },
  {
   "cell_type": "code",
   "execution_count": 90,
   "id": "9ca03fde",
   "metadata": {},
   "outputs": [],
   "source": [
    "#Defining which data to use\n",
    "xdata = exp[\"n\"]\n",
    "ydata = exp[\"E\"]\n",
    "\n",
    "#Finding the curve with the function that approximates the data\n",
    "popt, pcov = curve_fit(func, xdata, ydata)"
   ]
  },
  {
   "cell_type": "markdown",
   "id": "187aeff4",
   "metadata": {},
   "source": [
    "# Graph of Data"
   ]
  },
  {
   "cell_type": "code",
   "execution_count": 91,
   "id": "6e6419a4",
   "metadata": {},
   "outputs": [
    {
     "name": "stdout",
     "output_type": "stream",
     "text": [
      "Constant Values: \n",
      "[ 0.05820054  0.78649706  0.86627899 -0.02828409]\n"
     ]
    },
    {
     "data": {
      "image/png": "[encoded data removed]",
      "text/plain": [
       "<Figure size 720x720 with 1 Axes>"
      ]
     },
     "metadata": {
      "needs_background": "light"
     },
     "output_type": "display_data"
    }
   ],
   "source": [
    "#Defining what the plot size\n",
    "f = plt.figure(figsize = (10,10))\n",
    "ax1 = f.add_subplot()\n",
    "\n",
    "#Saying which data should be plotted\n",
    "ax1.scatter(x=exp[\"n\"],y=exp[\"E\"]) #raw data\n",
    "ax1.plot(xdata, func(xdata, *popt), color=\"red\") #regression analysis\n",
    "\n",
    "\n",
    "#Setting y-axis restrictions and printing constants\n",
    "ax1.set_ylim(0,7)\n",
    "\n",
    "#gives the a,b,c,d values in that order\n",
    "print(\"Constant Values: \")\n",
    "print(popt) "
   ]
  }
 ],
 "metadata": {
  "kernelspec": {
   "display_name": "Python 3 (ipykernel)",
   "language": "python",
   "name": "python3"
  },
  "language_info": {
   "codemirror_mode": {
    "name": "ipython",
    "version": 3
   },
   "file_extension": ".py",
   "mimetype": "text/x-python",
   "name": "python",
   "nbconvert_exporter": "python",
   "pygments_lexer": "ipython3",
   "version": "3.9.12"
  }
 },
 "nbformat": 4,
 "nbformat_minor": 5
}

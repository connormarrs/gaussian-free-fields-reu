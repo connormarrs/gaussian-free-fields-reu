{
 "cells": [
  {
   "cell_type": "code",
   "execution_count": 10,
   "id": "6ea5f93a",
   "metadata": {},
   "outputs": [],
   "source": [
    "#Used for math opperations\n",
    "import numpy as np\n",
    "\n",
    "#Used for plotting data\n",
    "import matplotlib.pyplot as plt\n",
    "%matplotlib inline\n",
    "\n",
    "#Used to read outside files\n",
    "import pandas as pd"
   ]
  },
  {
   "cell_type": "markdown",
   "id": "6ebd28cf",
   "metadata": {},
   "source": [
    "### Get the Names of CSV files"
   ]
  },
  {
   "cell_type": "code",
   "execution_count": 2,
   "id": "99374be6",
   "metadata": {},
   "outputs": [
    {
     "name": "stdout",
     "output_type": "stream",
     "text": [
      "Input Operating System; W for Windows, M for Mac or Linux: w\n"
     ]
    }
   ],
   "source": [
    "System = input(\"Input Operating System; W for Windows, M for Mac or Linux: \")"
   ]
  },
  {
   "cell_type": "code",
   "execution_count": 3,
   "id": "7fae3f8f",
   "metadata": {},
   "outputs": [],
   "source": [
    "# A list of both n and s values\n",
    "# Must be input as strings and include all sig-figs\n",
    "# Maximum of nine s values\n",
    "\n",
    "N = ['10','50','100', '500','1000','10000','20000','30000']\n",
    "S = ['0.000000','0.225000','0.250000','0.275000','0.500000']"
   ]
  },
  {
   "cell_type": "code",
   "execution_count": 4,
   "id": "dd8334dd",
   "metadata": {},
   "outputs": [],
   "source": [
    "if System == 'W' or 'w':\n",
    "    Address = r'..\\\\..\\\\Data\\\\Heat Map\\\\Sphere\\\\'\n",
    "elif System == 'M' or 'm':\n",
    "    Address = r'..//..//Data//Heat Map//Sphere//'"
   ]
  },
  {
   "cell_type": "code",
   "execution_count": 14,
   "id": "be1f02c1",
   "metadata": {},
   "outputs": [],
   "source": [
    "# These Functions construct the addresses of all the files in the folder\n",
    "\n",
    "def filenumber(n):\n",
    "    if System == 'W' or 'w':\n",
    "        number = Address + '\\\\' + n\n",
    "    if System == 'M' or 'm':\n",
    "        number = Address + '//' + n\n",
    "    return number\n",
    "\n",
    "def filename(n ,s):\n",
    "    name = filenumber(n) + '_' + s + '.csv'\n",
    "    return name"
   ]
  },
  {
   "cell_type": "code",
   "execution_count": 15,
   "id": "1b716513",
   "metadata": {},
   "outputs": [],
   "source": [
    "# This creates a list of all data addresses the user specified\n",
    "Files = []\n",
    "\n",
    "for n in range(len(N)):\n",
    "    for s in range(len(S)):\n",
    "        Files.append(filename((N[n]),S[s]))"
   ]
  },
  {
   "cell_type": "markdown",
   "id": "0e52e1d8",
   "metadata": {},
   "source": [
    "### Get CSV Data"
   ]
  },
  {
   "cell_type": "code",
   "execution_count": 7,
   "id": "eb61d66e",
   "metadata": {},
   "outputs": [],
   "source": [
    "# Takes a csv file and reads all the data\n",
    "def gettheta(file):\n",
    "    colnames = ['theta', 'phi','data']\n",
    "    File_Data = pd.read_csv(file, names=colnames)\n",
    "    \n",
    "    return list(File_Data['theta'])"
   ]
  },
  {
   "cell_type": "code",
   "execution_count": 8,
   "id": "e296fda5",
   "metadata": {},
   "outputs": [],
   "source": [
    "def getphi(file):\n",
    "    colnames = ['theta', 'phi','data']\n",
    "    File_Data = pd.read_csv(file, names=colnames)\n",
    "    \n",
    "    return list(File_Data['phi'])"
   ]
  },
  {
   "cell_type": "code",
   "execution_count": 9,
   "id": "dd75ed53",
   "metadata": {},
   "outputs": [],
   "source": [
    "def getdata(file):\n",
    "    colnames = ['theta', 'phi','data']\n",
    "    File_Data = pd.read_csv(file, names=colnames)\n",
    "    \n",
    "    return list(File_Data['data'])"
   ]
  },
  {
   "cell_type": "code",
   "execution_count": null,
   "id": "a329a705",
   "metadata": {},
   "outputs": [],
   "source": [
    "Theta = []\n",
    "Phi = []\n",
    "Trial_Data = []\n",
    "\n",
    "for x in range(len(Files)):\n",
    "    Theta.append(gettheta(Files[x]))\n",
    "    Phi.append(getphi(Files[x]))\n",
    "    Trial_Data.append(getdata(Files[x]))"
   ]
  },
  {
   "cell_type": "markdown",
   "id": "1bd81571",
   "metadata": {},
   "source": [
    "### Getting Ready to Graph"
   ]
  },
  {
   "cell_type": "code",
   "execution_count": 68,
   "id": "06886e34",
   "metadata": {},
   "outputs": [],
   "source": [
    "# The function which graphs all the n and s values specified by the user. Any number of n values, maximum of nine s values\n",
    "def graphSphere(n):\n",
    "    index = N.index(str(n))\n",
    "    \n",
    "    \n",
    "    fig = plt.figure(figsize =(10,10))\n",
    "    plt.style.use('fivethirtyeight')\n",
    "    fig.suptitle(\"N = {}\".format(n), fontsize=15)\n",
    "    \n",
    "    if len(S)>0:\n",
    "        ax1 = plt.subplot(331)\n",
    "        ax1.scatter(Theta[0],Phi[0], cmap='coolwarm', c = Trial_Data[(index*len(S))], s=100)\n",
    "    \n",
    "    if len(S)>1:\n",
    "        ax2 = plt.subplot(332)\n",
    "        ax2.scatter(Theta[1],Phi[1], cmap='coolwarm',c = Trial_Data[(index*len(S))+1], s=100)\n",
    "\n",
    "    if len(S)>2:\n",
    "        ax3 = plt.subplot(333)\n",
    "        ax3.scatter(Theta[2],Phi[2], cmap='coolwarm',c = Trial_Data[(index*len(S))+2], s=100)\n",
    "    \n",
    "    if len(S)>3:\n",
    "        ax4 = plt.subplot(334)\n",
    "        ax4.scatter(Theta[3],Phi[3], cmap='coolwarm',c = Trial_Data[(index*len(S))+3], s=100)\n",
    "    \n",
    "    if len(S)>4:\n",
    "        ax5 = plt.subplot(335)\n",
    "        ax5.scatter(Theta[4],Phi[4], cmap='coolwarm',c = Trial_Data[(index*len(S))+4], s=100)\n",
    "    \n",
    "    if len(S)>5:\n",
    "        ax6 = plt.subplot(336)\n",
    "        ax6.scatter(Theta[5],Phi[5], cmap='coolwarm',c = Trial_Data[(index*len(S))+5], s=100)\n",
    "        \n",
    "    if len(S)>6:\n",
    "        ax7 = plt.subplot(337)\n",
    "        ax7.scatter(Theta[6],Phi[6], cmap='coolwarm',c = Trial_Data[(index*len(S))+6], s=100)\n",
    "        \n",
    "    if len(S)>7:\n",
    "        ax8 = plt.subplot(338)\n",
    "        ax8.scatter(Theta[7],Phi[7], cmap='coolwarm',c = Trial_Data[(index*len(S))+7], s=100)\n",
    "        \n",
    "    if len(S)>8:\n",
    "        ax9 = plt.subplot(339)\n",
    "        ax9.scatter(Theta[8],Phi[8], cmap='coolwarm',c = Trial_Data[(index*len(S))+8], s=100)\n",
    "        \n",
    "    return plt.show"
   ]
  },
  {
   "cell_type": "markdown",
   "id": "7ebdec63",
   "metadata": {},
   "source": [
    "## Graphs"
   ]
  },
  {
   "cell_type": "code",
   "execution_count": null,
   "id": "a0727ecb",
   "metadata": {
    "scrolled": false
   },
   "outputs": [],
   "source": [
    "for n in range(len(N)):\n",
    "    graphTorus(int(N[n]))"
   ]
  },
  {
   "cell_type": "code",
   "execution_count": null,
   "id": "3cbd23d4",
   "metadata": {},
   "outputs": [],
   "source": []
  }
 ],
 "metadata": {
  "kernelspec": {
   "display_name": "Python 3 (ipykernel)",
   "language": "python",
   "name": "python3"
  },
  "language_info": {
   "codemirror_mode": {
    "name": "ipython",
    "version": 3
   },
   "file_extension": ".py",
   "mimetype": "text/x-python",
   "name": "python",
   "nbconvert_exporter": "python",
   "pygments_lexer": "ipython3",
   "version": "3.9.12"
  }
 },
 "nbformat": 4,
 "nbformat_minor": 5
}

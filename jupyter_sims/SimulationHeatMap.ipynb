{
 "cells": [
  {
   "cell_type": "code",
   "execution_count": 66,
   "id": "c51a0dfc",
   "metadata": {},
   "outputs": [],
   "source": [
    "%matplotlib inline\n",
    "import numpy as np\n",
    "import math\n",
    "import matplotlib.pyplot as plt\n",
    "import pandas as pd\n",
    "from scipy.optimize import curve_fit\n",
    "import seaborn as sns"
   ]
  },
  {
   "cell_type": "code",
   "execution_count": 77,
   "id": "1a79191f",
   "metadata": {},
   "outputs": [
    {
     "name": "stdout",
     "output_type": "stream",
     "text": [
      "Input n value: 10\n",
      "[0.0, 0.6283185307179586, 1.2566370614359172, 1.8849555921538759, 2.5132741228718345, 3.141592653589793, 3.7699111843077517, 4.39822971502571, 5.026548245743669, 5.654866776461628, 6.283185307179586]\n"
     ]
    }
   ],
   "source": [
    "n = 10\n",
    "theta = []\n",
    "line = []\n",
    "for k in range(0,n+1):\n",
    "    theta.append((2*np.pi*k)/n)\n",
    "    line.append(0)"
   ]
  },
  {
   "cell_type": "code",
   "execution_count": 86,
   "id": "1d51d7fe",
   "metadata": {},
   "outputs": [],
   "source": [
    "colnames=['theta', 'val'] \n",
    "vals = pd.read_csv('Test Data.csv', names=colnames)"
   ]
  },
  {
   "cell_type": "code",
   "execution_count": 97,
   "id": "f6f9927a",
   "metadata": {},
   "outputs": [
    {
     "data": {
      "text/plain": [
       "<matplotlib.collections.PathCollection at 0x1b988411340>"
      ]
     },
     "execution_count": 97,
     "metadata": {},
     "output_type": "execute_result"
    },
    {
     "data": {
      "image/png": "[encoded data removed]",
      "text/plain": [
       "<Figure size 432x288 with 1 Axes>"
      ]
     },
     "metadata": {},
     "output_type": "display_data"
    }
   ],
   "source": [
    "c = vals['val']\n",
    "\n",
    "\n",
    "plt.scatter(theta, line,c = vals['val'])"
   ]
  },
  {
   "cell_type": "code",
   "execution_count": null,
   "id": "dc02aca3",
   "metadata": {},
   "outputs": [],
   "source": []
  }
 ],
 "metadata": {
  "kernelspec": {
   "display_name": "Python 3 (ipykernel)",
   "language": "python",
   "name": "python3"
  },
  "language_info": {
   "codemirror_mode": {
    "name": "ipython",
    "version": 3
   },
   "file_extension": ".py",
   "mimetype": "text/x-python",
   "name": "python",
   "nbconvert_exporter": "python",
   "pygments_lexer": "ipython3",
   "version": "3.9.12"
  }
 },
 "nbformat": 4,
 "nbformat_minor": 5
}
